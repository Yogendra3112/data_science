{
 "cells": [
  {
   "cell_type": "code",
   "execution_count": 117,
   "metadata": {},
   "outputs": [],
   "source": [
    "import numpy as np\n",
    "import matplotlib.pyplot as plt\n",
    "import pandas as pd\n",
    "from sklearn import linear_model\n",
    "from sklearn.preprocessing import PolynomialFeatures"
   ]
  },
  {
   "cell_type": "code",
   "execution_count": 4,
   "metadata": {
    "scrolled": true
   },
   "outputs": [
    {
     "data": {
      "text/html": [
       "<div>\n",
       "<style scoped>\n",
       "    .dataframe tbody tr th:only-of-type {\n",
       "        vertical-align: middle;\n",
       "    }\n",
       "\n",
       "    .dataframe tbody tr th {\n",
       "        vertical-align: top;\n",
       "    }\n",
       "\n",
       "    .dataframe thead th {\n",
       "        text-align: right;\n",
       "    }\n",
       "</style>\n",
       "<table border=\"1\" class=\"dataframe\">\n",
       "  <thead>\n",
       "    <tr style=\"text-align: right;\">\n",
       "      <th></th>\n",
       "      <th>Engine Size</th>\n",
       "      <th>Cylinders</th>\n",
       "      <th>Fuel Consumption</th>\n",
       "      <th>CO2 Emissions</th>\n",
       "    </tr>\n",
       "  </thead>\n",
       "  <tbody>\n",
       "    <tr>\n",
       "      <td>1044</td>\n",
       "      <td>2.0</td>\n",
       "      <td>4.0</td>\n",
       "      <td>11.8</td>\n",
       "      <td>242</td>\n",
       "    </tr>\n",
       "    <tr>\n",
       "      <td>916</td>\n",
       "      <td>2.9</td>\n",
       "      <td>6.0</td>\n",
       "      <td>13.1</td>\n",
       "      <td>273</td>\n",
       "    </tr>\n",
       "    <tr>\n",
       "      <td>745</td>\n",
       "      <td>2.0</td>\n",
       "      <td>4.0</td>\n",
       "      <td>9.9</td>\n",
       "      <td>204</td>\n",
       "    </tr>\n",
       "    <tr>\n",
       "      <td>59</td>\n",
       "      <td>2.0</td>\n",
       "      <td>4.0</td>\n",
       "      <td>10.2</td>\n",
       "      <td>207</td>\n",
       "    </tr>\n",
       "    <tr>\n",
       "      <td>165</td>\n",
       "      <td>2.5</td>\n",
       "      <td>4.0</td>\n",
       "      <td>12.1</td>\n",
       "      <td>253</td>\n",
       "    </tr>\n",
       "    <tr>\n",
       "      <td>786</td>\n",
       "      <td>2.0</td>\n",
       "      <td>4.0</td>\n",
       "      <td>11.4</td>\n",
       "      <td>227</td>\n",
       "    </tr>\n",
       "    <tr>\n",
       "      <td>628</td>\n",
       "      <td>3.5</td>\n",
       "      <td>6.0</td>\n",
       "      <td>10.3</td>\n",
       "      <td>214</td>\n",
       "    </tr>\n",
       "    <tr>\n",
       "      <td>772</td>\n",
       "      <td>1.5</td>\n",
       "      <td>3.0</td>\n",
       "      <td>8.5</td>\n",
       "      <td>175</td>\n",
       "    </tr>\n",
       "    <tr>\n",
       "      <td>253</td>\n",
       "      <td>6.2</td>\n",
       "      <td>8.0</td>\n",
       "      <td>17.6</td>\n",
       "      <td>339</td>\n",
       "    </tr>\n",
       "    <tr>\n",
       "      <td>796</td>\n",
       "      <td>2.0</td>\n",
       "      <td>4.0</td>\n",
       "      <td>10.8</td>\n",
       "      <td>220</td>\n",
       "    </tr>\n",
       "  </tbody>\n",
       "</table>\n",
       "</div>"
      ],
      "text/plain": [
       "     Engine Size  Cylinders Fuel Consumption CO2 Emissions\n",
       "1044         2.0        4.0             11.8           242\n",
       "916          2.9        6.0             13.1           273\n",
       "745          2.0        4.0              9.9           204\n",
       "59           2.0        4.0             10.2           207\n",
       "165          2.5        4.0             12.1           253\n",
       "786          2.0        4.0             11.4           227\n",
       "628          3.5        6.0             10.3           214\n",
       "772          1.5        3.0              8.5           175\n",
       "253          6.2        8.0             17.6           339\n",
       "796          2.0        4.0             10.8           220"
      ]
     },
     "execution_count": 4,
     "metadata": {},
     "output_type": "execute_result"
    }
   ],
   "source": [
    "df = pd.read_csv(r'C:\\Users\\Yogi\\Desktop\\Fuel_Consumption_Ratings.csv',encoding='unicode_escape')\n",
    "df1 = df[['Engine Size','Cylinders','Fuel Consumption','CO2 Emissions']].dropna()\n",
    "df1.sample(10)"
   ]
  },
  {
   "cell_type": "code",
   "execution_count": 5,
   "metadata": {},
   "outputs": [
    {
     "data": {
      "text/plain": [
       "Index(['Model', 'Make', 'Model.1', 'Vehicle Class', 'Engine Size', 'Cylinders',\n",
       "       'Transmission', 'Fuel', 'Fuel Consumption', 'Unnamed: 9',\n",
       "       ...\n",
       "       'Unnamed: 211', 'Unnamed: 212', 'Unnamed: 213', 'Unnamed: 214',\n",
       "       'Unnamed: 215', 'Unnamed: 216', 'Unnamed: 217', 'Unnamed: 218',\n",
       "       'Unnamed: 219', 'Unnamed: 220'],\n",
       "      dtype='object', length=221)"
      ]
     },
     "execution_count": 5,
     "metadata": {},
     "output_type": "execute_result"
    }
   ],
   "source": [
    "df.columns"
   ]
  },
  {
   "cell_type": "code",
   "execution_count": 6,
   "metadata": {
    "scrolled": false
   },
   "outputs": [
    {
     "data": {
      "text/html": [
       "<div>\n",
       "<style scoped>\n",
       "    .dataframe tbody tr th:only-of-type {\n",
       "        vertical-align: middle;\n",
       "    }\n",
       "\n",
       "    .dataframe tbody tr th {\n",
       "        vertical-align: top;\n",
       "    }\n",
       "\n",
       "    .dataframe thead th {\n",
       "        text-align: right;\n",
       "    }\n",
       "</style>\n",
       "<table border=\"1\" class=\"dataframe\">\n",
       "  <thead>\n",
       "    <tr style=\"text-align: right;\">\n",
       "      <th></th>\n",
       "      <th>Cylinders</th>\n",
       "    </tr>\n",
       "  </thead>\n",
       "  <tbody>\n",
       "    <tr>\n",
       "      <td>count</td>\n",
       "      <td>1046.000000</td>\n",
       "    </tr>\n",
       "    <tr>\n",
       "      <td>mean</td>\n",
       "      <td>5.595602</td>\n",
       "    </tr>\n",
       "    <tr>\n",
       "      <td>std</td>\n",
       "      <td>1.796845</td>\n",
       "    </tr>\n",
       "    <tr>\n",
       "      <td>min</td>\n",
       "      <td>3.000000</td>\n",
       "    </tr>\n",
       "    <tr>\n",
       "      <td>25%</td>\n",
       "      <td>4.000000</td>\n",
       "    </tr>\n",
       "    <tr>\n",
       "      <td>50%</td>\n",
       "      <td>6.000000</td>\n",
       "    </tr>\n",
       "    <tr>\n",
       "      <td>75%</td>\n",
       "      <td>6.000000</td>\n",
       "    </tr>\n",
       "    <tr>\n",
       "      <td>max</td>\n",
       "      <td>16.000000</td>\n",
       "    </tr>\n",
       "  </tbody>\n",
       "</table>\n",
       "</div>"
      ],
      "text/plain": [
       "         Cylinders\n",
       "count  1046.000000\n",
       "mean      5.595602\n",
       "std       1.796845\n",
       "min       3.000000\n",
       "25%       4.000000\n",
       "50%       6.000000\n",
       "75%       6.000000\n",
       "max      16.000000"
      ]
     },
     "execution_count": 6,
     "metadata": {},
     "output_type": "execute_result"
    }
   ],
   "source": [
    "df1.describe()"
   ]
  },
  {
   "cell_type": "code",
   "execution_count": 7,
   "metadata": {},
   "outputs": [
    {
     "name": "stdout",
     "output_type": "stream",
     "text": [
      "<class 'pandas.core.frame.DataFrame'>\n",
      "Int64Index: 1046 entries, 1 to 1046\n",
      "Data columns (total 4 columns):\n",
      "Engine Size         1046 non-null object\n",
      "Cylinders           1046 non-null float64\n",
      "Fuel Consumption    1046 non-null object\n",
      "CO2 Emissions       1046 non-null object\n",
      "dtypes: float64(1), object(3)\n",
      "memory usage: 40.9+ KB\n"
     ]
    }
   ],
   "source": [
    "df1.info()"
   ]
  },
  {
   "cell_type": "code",
   "execution_count": 8,
   "metadata": {
    "scrolled": true
   },
   "outputs": [
    {
     "name": "stdout",
     "output_type": "stream",
     "text": [
      "<class 'pandas.core.frame.DataFrame'>\n",
      "Int64Index: 1046 entries, 1 to 1046\n",
      "Data columns (total 4 columns):\n",
      "Engine Size         1046 non-null float64\n",
      "Cylinders           1046 non-null float64\n",
      "Fuel Consumption    1046 non-null float64\n",
      "CO2 Emissions       1046 non-null float64\n",
      "dtypes: float64(4)\n",
      "memory usage: 40.9 KB\n"
     ]
    }
   ],
   "source": [
    "df1 = df1.astype(float)\n",
    "df1.info()"
   ]
  },
  {
   "cell_type": "code",
   "execution_count": 9,
   "metadata": {
    "scrolled": true
   },
   "outputs": [
    {
     "data": {
      "image/png": "[encoded data removed]",
      "text/plain": [
       "<Figure size 432x288 with 1 Axes>"
      ]
     },
     "metadata": {
      "needs_background": "light"
     },
     "output_type": "display_data"
    }
   ],
   "source": [
    " plt.scatter(df1['Engine Size'],df1['CO2 Emissions'],color='r')\n",
    "plt.show()"
   ]
  },
  {
   "cell_type": "code",
   "execution_count": 10,
   "metadata": {
    "scrolled": true
   },
   "outputs": [
    {
     "data": {
      "image/png": "[encoded data removed]",
      "text/plain": [
       "<Figure size 432x288 with 1 Axes>"
      ]
     },
     "metadata": {
      "needs_background": "light"
     },
     "output_type": "display_data"
    }
   ],
   "source": [
    "plt.scatter(df1['Cylinders'],df1['CO2 Emissions'],color='b')\n",
    "plt.xlabel('No of Cylindars')\n",
    "plt.ylabel('Co2 emission')\n",
    "plt.show()"
   ]
  },
  {
   "cell_type": "code",
   "execution_count": 11,
   "metadata": {},
   "outputs": [
    {
     "data": {
      "image/png": "[encoded data removed]",
      "text/plain": [
       "<Figure size 432x288 with 1 Axes>"
      ]
     },
     "metadata": {
      "needs_background": "light"
     },
     "output_type": "display_data"
    }
   ],
   "source": [
    "plt.scatter(df1['Fuel Consumption'],df1['CO2 Emissions'],color='g')\n",
    "plt.xlabel('Fuel Amount')\n",
    "plt.ylabel('Co2 amount')\n",
    "plt.show()"
   ]
  },
  {
   "cell_type": "code",
   "execution_count": 12,
   "metadata": {
    "scrolled": true
   },
   "outputs": [
    {
     "name": "stdout",
     "output_type": "stream",
     "text": [
      "      Engine Size  Cylinders  Fuel Consumption  CO2 Emissions\n",
      "1             2.4        4.0               9.9          199.0\n",
      "2             3.5        6.0              12.2          252.0\n",
      "4             3.0        6.0               9.1          210.0\n",
      "5             3.5        6.0              11.1          261.0\n",
      "6             2.0        4.0              11.0          232.0\n",
      "...           ...        ...               ...            ...\n",
      "1042          2.0        4.0              10.3          211.0\n",
      "1043          2.0        4.0              11.3          233.0\n",
      "1044          2.0        4.0              11.8          242.0\n",
      "1045          2.0        4.0              11.3          233.0\n",
      "1046          2.0        4.0              12.1          250.0\n",
      "\n",
      "[833 rows x 4 columns]       Engine Size  Cylinders  Fuel Consumption  CO2 Emissions\n",
      "3             3.5        6.0              12.2          258.0\n",
      "10            2.4        4.0              10.2          209.0\n",
      "12            3.5        6.0              12.0          240.0\n",
      "19            2.0        4.0              10.8          226.0\n",
      "23            5.2       12.0              16.4          324.0\n",
      "...           ...        ...               ...            ...\n",
      "1012          2.0        4.0               9.0          191.0\n",
      "1015          1.4        4.0               8.2          172.0\n",
      "1025          1.8        4.0              10.8          218.0\n",
      "1032          2.0        4.0              11.1          228.0\n",
      "1033          2.0        4.0               9.9          197.0\n",
      "\n",
      "[213 rows x 4 columns]\n"
     ]
    }
   ],
   "source": [
    "msk = np.random.rand(len(df1)) < 0.8\n",
    "train = df1[msk]\n",
    "test = df1[~msk]\n",
    "print(train,test)"
   ]
  },
  {
   "cell_type": "code",
   "execution_count": 13,
   "metadata": {
    "scrolled": true
   },
   "outputs": [
    {
     "data": {
      "image/png": "[encoded data removed]",
      "text/plain": [
       "<Figure size 432x288 with 1 Axes>"
      ]
     },
     "metadata": {
      "needs_background": "light"
     },
     "output_type": "display_data"
    }
   ],
   "source": [
    "plt.scatter(train['Engine Size'], train['CO2 Emissions'],  color='blue')\n",
    "plt.xlabel(\"Engine size\")\n",
    "plt.ylabel(\"Emission\")\n",
    "plt.show()"
   ]
  },
  {
   "cell_type": "code",
   "execution_count": 14,
   "metadata": {
    "scrolled": true
   },
   "outputs": [
    {
     "name": "stdout",
     "output_type": "stream",
     "text": [
      "Coefficients:  [[36.89702812]]\n",
      "Intercept:  [136.37872852]\n"
     ]
    }
   ],
   "source": [
    "lregr = linear_model.LinearRegression()\n",
    "train_x = np.asanyarray(train[['Engine Size']])\n",
    "train_y = np.asanyarray(train[['CO2 Emissions']])\n",
    "lregr.fit(train_x,train_y)\n",
    "print ('Coefficients: ', lregr.coef_)\n",
    "print ('Intercept: ',lregr.intercept_)"
   ]
  },
  {
   "cell_type": "code",
   "execution_count": 15,
   "metadata": {
    "scrolled": true
   },
   "outputs": [
    {
     "data": {
      "text/plain": [
       "Text(0, 0.5, 'Emission')"
      ]
     },
     "execution_count": 15,
     "metadata": {},
     "output_type": "execute_result"
    },
    {
     "data": {
      "image/png": "[encoded data removed]",
      "text/plain": [
       "<Figure size 432x288 with 1 Axes>"
      ]
     },
     "metadata": {
      "needs_background": "light"
     },
     "output_type": "display_data"
    }
   ],
   "source": [
    "plt.scatter(train['Engine Size'], train['CO2 Emissions'],  color='blue')\n",
    "plt.plot(train_x, lregr.coef_[0][0]*train_x + lregr.intercept_[0], '-r')\n",
    "plt.xlabel(\"Engine size\")\n",
    "plt.ylabel(\"Emission\")"
   ]
  },
  {
   "cell_type": "markdown",
   "metadata": {},
   "source": [
    "## Linear Regression"
   ]
  },
  {
   "cell_type": "code",
   "execution_count": 16,
   "metadata": {},
   "outputs": [
    {
     "name": "stdout",
     "output_type": "stream",
     "text": [
      "Mean absolute error: 21.56\n",
      "Residual sum of squares (MSE): 799.99\n",
      "R2-score: 0.69\n"
     ]
    }
   ],
   "source": [
    "from sklearn.metrics import r2_score\n",
    "\n",
    "test_x = np.asanyarray(test[['Engine Size']])\n",
    "test_y = np.asanyarray(test[['CO2 Emissions']])\n",
    "test_y_hat = lregr.predict(test_x)\n",
    "\n",
    "print(\"Mean absolute error: %.2f\" % np.mean(np.absolute(test_y_hat - test_y)))\n",
    "print(\"Residual sum of squares (MSE): %.2f\" % np.mean((test_y_hat - test_y) ** 2))\n",
    "print(\"R2-score: %.2f\" % r2_score(test_y_hat , test_y) )"
   ]
  },
  {
   "cell_type": "code",
   "execution_count": 17,
   "metadata": {
    "scrolled": true
   },
   "outputs": [
    {
     "name": "stdout",
     "output_type": "stream",
     "text": [
      "Coefficients:  [[16.22572801]]\n",
      "Intercept:  [50.43894048]\n"
     ]
    }
   ],
   "source": [
    "lregr1 = linear_model.LinearRegression()\n",
    "train_x = np.asanyarray(train[['Fuel Consumption']])\n",
    "train_y = np.asanyarray(train[['CO2 Emissions']])\n",
    "lregr1.fit(train_x,train_y)\n",
    "print ('Coefficients: ', lregr1.coef_)\n",
    "print ('Intercept: ',lregr1.intercept_)"
   ]
  },
  {
   "cell_type": "code",
   "execution_count": 33,
   "metadata": {},
   "outputs": [
    {
     "data": {
      "text/plain": [
       "<matplotlib.legend.Legend at 0x23cf1ea6288>"
      ]
     },
     "execution_count": 33,
     "metadata": {},
     "output_type": "execute_result"
    },
    {
     "data": {
      "image/png": "[encoded data removed]",
      "text/plain": [
       "<Figure size 432x288 with 1 Axes>"
      ]
     },
     "metadata": {
      "needs_background": "light"
     },
     "output_type": "display_data"
    }
   ],
   "source": [
    "plt.scatter(train['Fuel Consumption'],train['CO2 Emissions'])\n",
    "plt.plot(train_x,lregr1.coef_[0][0]*train_x+lregr.intercept_[0],'-r',label='Fit line')\n",
    "plt.legend()"
   ]
  },
  {
   "cell_type": "code",
   "execution_count": 40,
   "metadata": {},
   "outputs": [
    {
     "data": {
      "text/plain": [
       "<matplotlib.legend.Legend at 0x23cf2261a08>"
      ]
     },
     "execution_count": 40,
     "metadata": {},
     "output_type": "execute_result"
    },
    {
     "data": {
      "image/png": "[encoded data removed]",
      "text/plain": [
       "<Figure size 432x288 with 1 Axes>"
      ]
     },
     "metadata": {
      "needs_background": "light"
     },
     "output_type": "display_data"
    }
   ],
   "source": [
    "plt.scatter(train['Fuel Consumption'],train['CO2 Emissions'])\n",
    "plt.plot(train_x,lregr1.coef_[0][0]*train_x+lregr.intercept_[0],'b',label='fit line')\n",
    "plt.plot(test_x,lregr.predict(test_x),label='predicted test line',c='r')\n",
    "plt.plot(train_x,lregr.predict(train_x),label='predicted trained data line',c='g')\n",
    "plt.legend()"
   ]
  },
  {
   "cell_type": "code",
   "execution_count": 75,
   "metadata": {},
   "outputs": [
    {
     "name": "stdout",
     "output_type": "stream",
     "text": [
      "[13.48153484  3.21210862  4.24616898] 53.37152127484521\n"
     ]
    }
   ],
   "source": [
    "mlregr = linear_model.LinearRegression()\n",
    "mlr_x = np.asanyarray(train[['Fuel Consumption','Cylinders','Engine Size']]) \n",
    "mlr_y = np.asanyarray(train['CO2 Emissions'])\n",
    "mlregr.fit(mlr_x,mlr_y)\n",
    "print(mlregr.coef_,mlregr.intercept_)\n",
    "#print(mlregr.coef_.shape)"
   ]
  },
  {
   "cell_type": "code",
   "execution_count": 58,
   "metadata": {},
   "outputs": [
    {
     "data": {
      "text/plain": [
       "[<matplotlib.lines.Line2D at 0x23cf23d6948>,\n",
       " <matplotlib.lines.Line2D at 0x23cf2485ac8>,\n",
       " <matplotlib.lines.Line2D at 0x23cf2485f48>]"
      ]
     },
     "execution_count": 58,
     "metadata": {},
     "output_type": "execute_result"
    },
    {
     "data": {
      "image/png": "[encoded data removed]",
      "text/plain": [
       "<Figure size 432x288 with 1 Axes>"
      ]
     },
     "metadata": {
      "needs_background": "light"
     },
     "output_type": "display_data"
    }
   ],
   "source": [
    "plt.plot(mlr_x,mlregr.predict(traintrain[['Fuel Consumption','Cylinders','Engine Size']]))"
   ]
  },
  {
   "cell_type": "code",
   "execution_count": 57,
   "metadata": {
    "scrolled": false
   },
   "outputs": [
    {
     "data": {
      "text/plain": [
       "array([209.87795618, 251.98048941, 208.06464693, 237.15080109,\n",
       "       223.00917691, 227.05363736, 200.75065703, 211.22610966,\n",
       "       241.19526155, 204.63394782, 204.63394782, 209.52764207,\n",
       "       216.26840949, 271.00324377, 213.57210252, 275.04770422,\n",
       "       271.31301901, 322.96069334, 342.53547033, 353.3206982 ,\n",
       "       267.26855856, 197.39426072, 221.66102342, 218.96471646,\n",
       "       209.52764207, 218.96471646, 209.52764207, 209.52764207,\n",
       "       229.63510267, 253.90186538, 240.5351722 , 221.66102342,\n",
       "       239.18701871, 264.26247635, 266.95878331, 218.96471646,\n",
       "       237.72402357, 239.07217705, 237.72402357, 256.59817234,\n",
       "       213.57210252, 213.57210252, 241.82590485, 214.92025601,\n",
       "       438.23994278, 208.17948859, 202.78687465, 212.22394904,\n",
       "       212.22394904, 212.22394904, 236.37587009, 257.94632583,\n",
       "       244.46479099, 239.07217705, 212.22394904, 251.20555841,\n",
       "       286.49302144, 277.05594705, 286.49302144, 286.49302144,\n",
       "       278.16862808, 266.03524673, 236.37587009, 257.94632583,\n",
       "       236.37587009, 257.94632583, 237.72402357, 237.72402357,\n",
       "       237.72402357, 271.42786066, 280.86493505, 271.42786066,\n",
       "       266.03524673, 266.03524673, 313.45609111, 313.45609111,\n",
       "       277.05594705, 330.9820864 , 358.56470655, 279.75225402,\n",
       "       277.05594705, 223.00917691, 220.31286994, 245.81294447,\n",
       "       220.31286994, 245.81294447, 243.11663751, 304.01901672,\n",
       "       260.64263279, 321.54501201, 247.16109796, 290.53748189,\n",
       "       500.03974461, 263.19033418, 273.97556205, 198.89101978,\n",
       "       192.15025236, 205.6317872 , 232.44625129, 226.48041488,\n",
       "       245.66433889, 203.56180566, 245.66433889, 217.61656297,\n",
       "       223.00917691, 255.10141328, 330.1328526 , 223.00917691,\n",
       "       228.40179084, 267.23479463, 290.15340386, 335.9288836 ,\n",
       "       329.18811618, 206.8313351 , 221.66102342, 251.05695283,\n",
       "       260.49402722, 261.8421807 , 272.62740857, 290.15340386,\n",
       "       222.43595443, 249.70879935, 280.71632947, 300.87689302,\n",
       "       306.26950695, 337.27703708, 239.96194972, 237.19133996,\n",
       "       268.58294812, 248.05087062, 242.5839539 , 276.67186902,\n",
       "       257.41364222, 290.15340386, 319.75104179, 368.28456721,\n",
       "       184.06133146, 184.06133146, 175.47349087, 184.06133146,\n",
       "       186.75763843, 196.61932971, 187.60687222, 197.96748319,\n",
       "       187.60687222, 221.66102342, 222.43595443, 183.13779487,\n",
       "       216.26840949, 138.57442712, 238.11487655, 294.47387563,\n",
       "       315.92948971, 313.23318274, 386.03347086, 291.662727  ,\n",
       "       246.20379745, 303.91095001, 310.65171743, 315.92948971,\n",
       "       318.62579668, 398.16685222, 302.44795487, 307.61766044,\n",
       "       311.88502926, 314.58133623, 178.66871752, 180.01687101,\n",
       "       313.23318274, 387.38162435, 328.06287106, 328.06287106,\n",
       "       400.86315918, 313.23318274, 313.23318274, 387.38162435,\n",
       "       314.58133623, 314.58133623, 326.49180921, 263.19033418,\n",
       "       272.62740857, 194.84655933, 198.89101978, 205.6317872 ,\n",
       "       255.10141328, 255.10141328, 260.49402722, 255.10141328,\n",
       "       313.58349685, 301.4501155 , 319.2521221 , 260.49402722,\n",
       "       349.41041843, 342.66965101, 272.62740857, 272.62740857,\n",
       "       342.73138972, 255.10141328, 318.46462702, 301.4501155 ,\n",
       "       260.49402722, 325.20539443, 318.97611078, 342.66965101,\n",
       "       259.14587373, 328.41318517, 352.9559592 , 247.62625372,\n",
       "       279.36817599, 283.41263644, 197.5428663 , 193.49840585,\n",
       "       202.93548023, 186.75763843, 206.55532378, 183.1952157 ,\n",
       "       221.66102342, 253.97616817, 210.10086455, 225.1322614 ,\n",
       "       279.05840075, 223.58239939, 229.74994433, 277.59540561,\n",
       "       252.59425076, 282.98801954, 354.44015418, 245.88724726,\n",
       "       251.2798612 , 251.2798612 , 230.98325615, 230.98325615,\n",
       "       251.13125562, 253.82756259, 269.5064847 , 274.89909864,\n",
       "       287.69256934, 373.9743923 , 298.47779721, 373.9743923 ,\n",
       "       375.32254578, 260.71693558, 260.71693558, 244.46479099,\n",
       "       244.46479099, 236.37587009, 259.22017652, 322.58339026,\n",
       "       272.70171136, 322.58339026, 280.29171257, 285.68432651,\n",
       "       273.55094515, 369.92993185, 369.92993185, 326.78902037,\n",
       "       387.45592714, 293.77324741, 285.68432651, 285.68432651,\n",
       "       188.95502571, 191.65133267, 197.04394661, 207.40455758,\n",
       "       148.8607353 , 362.52907508, 226.97933457, 302.52225766,\n",
       "       317.35194598, 317.35194598, 236.41640896, 235.06825547,\n",
       "       307.9148716 , 235.06825547, 333.0308681 , 305.90662876,\n",
       "       316.19293695, 269.5064847 , 327.4770845 , 284.33617302,\n",
       "       276.24725212, 336.91415889, 206.8313351 , 206.8313351 ,\n",
       "       254.01670703, 238.61379624, 208.17948859, 208.17948859,\n",
       "       259.40932097, 239.96194972, 247.27593962, 229.74994433,\n",
       "       265.96094394, 272.70171136, 269.43218191, 310.61117856,\n",
       "       271.35355787, 305.21856463, 226.48041488, 229.17672185,\n",
       "       269.9311016 , 239.96194972, 237.26564275, 237.19133996,\n",
       "       242.5839539 , 276.67186902, 238.11487655, 294.47387563,\n",
       "       315.92948971, 386.03347086, 294.35903397, 303.91095001,\n",
       "       315.92948971, 317.27764319, 398.16685222, 307.84056881,\n",
       "       307.84056881, 317.05473482, 311.88502926, 314.58133623,\n",
       "       196.61932971, 187.60687222, 202.01194365, 187.60687222,\n",
       "       313.23318274, 387.38162435, 314.58133623, 314.58133623,\n",
       "       394.12239176, 313.23318274, 313.23318274, 328.06287106,\n",
       "       400.86315918, 179.09333442, 183.13779487, 218.96471646,\n",
       "       142.11996788, 177.74518094, 179.86826543, 186.60903285,\n",
       "       200.09056768, 185.83410184, 176.39702745, 179.09333442,\n",
       "       180.44148791, 179.09333442, 181.21641891, 200.09056768,\n",
       "       185.83410184, 217.61656297, 185.83410184, 189.87856229,\n",
       "       166.95995307, 181.78964139, 187.10795254, 192.50056647,\n",
       "       196.54502692, 134.60426946, 134.60426946, 257.37310335,\n",
       "       251.98048941, 256.02494987, 262.76571728, 183.56241177,\n",
       "       183.56241177, 192.99948616, 217.26624886, 186.60903285,\n",
       "       198.7424142 , 203.78471403, 211.87363493, 201.43872117,\n",
       "       206.8313351 , 130.98442591, 129.63627242, 190.6534933 ,\n",
       "       198.7424142 , 222.01133753, 240.5351722 , 227.40395147,\n",
       "       264.61279046, 267.30909742, 276.74617181, 201.78903528,\n",
       "       200.44088179, 155.60150272, 154.25334924, 209.52764207,\n",
       "       220.31286994, 197.39426072, 201.43872117, 217.61656297,\n",
       "       187.60687222, 218.96471646, 252.55371189, 253.90186538,\n",
       "       225.70548388, 251.20555841, 253.90186538, 266.31125805,\n",
       "       303.72180557, 209.52764207, 256.02494987, 337.42564266,\n",
       "       223.00917691, 218.96471646, 264.68709325, 212.22394904,\n",
       "       245.81294447, 286.25754899, 252.55371189, 291.65016292,\n",
       "       260.64263279, 212.22394904, 245.81294447, 286.25754899,\n",
       "       252.55371189, 291.65016292, 310.61117856, 310.61117856,\n",
       "       206.8313351 , 179.86826543, 210.87579555, 274.12416763,\n",
       "       313.30748553, 246.66217827, 225.70548388, 227.40395147,\n",
       "       250.70663872, 229.74994433, 258.79555962, 233.79440478,\n",
       "       260.14371311, 219.31503057, 216.6187236 , 222.01133753,\n",
       "       222.01133753, 259.14587373, 328.41318517, 236.37587009,\n",
       "       352.9559592 , 387.15871598, 203.85901682, 222.01133753,\n",
       "       207.90347727, 227.40395147, 217.34055165, 216.26840949,\n",
       "       260.49402722, 272.62740857, 261.8421807 , 178.52011195,\n",
       "       190.6534933 , 135.02888636, 133.68073287, 141.76965378,\n",
       "       225.70548388, 204.48534224, 156.94965621, 187.60687222,\n",
       "       184.91056526, 257.87202304, 255.17571607, 195.69579313,\n",
       "       194.34763964, 202.78687465, 215.27057011, 235.14255826,\n",
       "       228.75210495, 270.00540439, 474.08128926, 348.89215972,\n",
       "       351.58846668, 348.89215972, 348.89215972, 284.9093955 ,\n",
       "       237.72402357, 228.40179084, 275.47232112, 294.43333676,\n",
       "       341.61870869, 275.47232112, 290.38887631, 221.66102342,\n",
       "       198.7424142 , 232.44625129, 260.64263279, 150.98381979,\n",
       "       230.41003368, 253.3286429 , 301.17410418, 314.30532491,\n",
       "       223.00917691, 253.3286429 , 253.3286429 , 208.83957794,\n",
       "       226.36557322, 218.96471646, 220.31286994, 173.90242902,\n",
       "       264.11387077, 305.21856463, 251.98048941, 264.11387077,\n",
       "       188.61727568, 196.70619658, 182.5645724 , 148.8607353 ,\n",
       "       151.55704227, 272.85031694, 280.86493505, 281.14094637,\n",
       "       240.5351722 , 239.18701871, 299.16586135, 286.5335603 ,\n",
       "       237.83886523, 274.12416763, 151.55704227, 253.97616817,\n",
       "       275.47232112, 283.56124202, 338.99670451, 299.73908382,\n",
       "       302.43539079, 336.52330591, 336.52330591, 288.95385595,\n",
       "       287.60570247, 310.90838972, 193.34980027, 190.6534933 ,\n",
       "       202.21365218, 214.34703353, 208.95441959, 222.43595443,\n",
       "       195.54718755, 219.73964746, 233.2211823 , 187.95718633,\n",
       "       192.00164678, 195.47288476, 195.47288476, 200.86549869,\n",
       "       190.6534933 , 192.00164678, 198.16919172, 200.86549869,\n",
       "       208.95441959, 199.51734521, 211.65072656, 205.48318162,\n",
       "       201.43872117, 208.17948859, 252.55371189, 256.59817234,\n",
       "       259.29447931, 274.00932597, 274.00932597, 283.44640036,\n",
       "       283.44640036, 213.57210252, 252.55371189, 236.37587009,\n",
       "       253.90186538, 251.20555841, 240.42033054, 311.75762352,\n",
       "       292.88347475, 340.06884668, 253.90186538, 255.25001886,\n",
       "       298.27608868, 298.27608868, 274.12416763, 275.47232112,\n",
       "       330.90778361, 338.99670451, 252.55371189, 302.32054913,\n",
       "       300.97239565, 284.79455384, 308.6898026 , 244.46479099,\n",
       "       206.8313351 , 213.57210252, 223.00917691, 227.05363736,\n",
       "       204.13502814, 237.72402357, 223.00917691, 244.46479099,\n",
       "       256.59817234, 253.90186538, 251.20555841, 338.72069319,\n",
       "       210.87579555, 223.00917691, 220.31286994, 267.38340021,\n",
       "       286.25754899, 330.90778361, 290.18716778, 229.74994433,\n",
       "       240.5351722 , 278.05378642, 244.46479099, 281.02610471,\n",
       "       209.52764207, 188.01460716, 183.97014671, 188.01460716,\n",
       "       182.62199323, 206.88875593, 210.93321638, 188.01460716,\n",
       "       182.62199323, 208.23690942, 210.93321638, 200.09056768,\n",
       "       200.09056768, 212.22394904, 214.92025601, 228.40179084,\n",
       "       201.43872117, 212.22394904, 216.26840949, 227.05363736,\n",
       "       200.09056768, 212.22394904, 214.92025601, 228.40179084,\n",
       "       201.43872117, 220.31286994, 227.05363736, 202.01194365,\n",
       "       157.08137982, 163.82214724, 161.12584028, 165.17030073,\n",
       "       209.87795618, 247.16109796, 210.87579555, 215.27057011,\n",
       "       258.22233715, 267.65941153, 263.61495108, 271.70387198,\n",
       "       192.77657779, 199.51734521, 202.21365218, 261.53240546,\n",
       "       302.63709932, 176.82164435, 243.89156851, 194.34763964,\n",
       "       190.30317919, 245.239722  , 245.239722  , 243.89156851,\n",
       "       250.63233593, 199.51734521, 183.06349208, 192.50056647,\n",
       "       192.99948616, 195.69579313, 199.74025358, 201.08840706,\n",
       "       305.06995905, 307.76626602, 317.2033404 , 175.47349087,\n",
       "       188.95502571, 228.28694919, 244.46479099, 230.98325615,\n",
       "       260.64263279, 244.46479099, 256.59817234, 230.98325615,\n",
       "       230.98325615, 248.50925144, 245.81294447, 282.21308853,\n",
       "       248.50925144, 233.67956312, 257.94632583, 245.81294447,\n",
       "       248.50925144, 233.67956312, 249.85740492, 302.63709932,\n",
       "       332.29647596, 306.68155977, 310.72602022, 324.20755506,\n",
       "       232.33140964, 249.85740492, 248.50925144, 263.33893976,\n",
       "       235.0277166 , 258.64695404, 259.99510753, 258.64695404,\n",
       "       259.99510753, 281.56556327, 216.26840949, 223.00917691,\n",
       "       235.91748927, 242.65825669, 226.48041488, 239.96194972,\n",
       "       253.90186538, 258.86986241, 307.71316307, 216.26840949,\n",
       "       223.00917691, 242.65825669, 226.48041488, 239.96194972,\n",
       "       241.88332568, 259.29447931, 252.55371189, 252.55371189,\n",
       "       249.85740492, 261.56616938, 261.56616938, 261.56616938,\n",
       "       294.23162823, 268.61671204, 268.61671204, 276.70563294,\n",
       "       321.67241775, 248.36064586, 293.36119459, 320.32426427,\n",
       "       252.40510631, 296.05750156, 275.32371554, 353.51661759,\n",
       "       332.45764562, 314.93165033, 244.46479099, 283.41263644,\n",
       "       366.99815243, 355.37625485, 320.32426427, 393.61669713,\n",
       "       393.61669713, 389.99685358, 389.99685358, 232.7965654 ,\n",
       "       205.48318162, 225.70548388, 216.26840949, 198.16919172,\n",
       "       187.95718633, 210.87579555, 202.21365218, 248.36064586,\n",
       "       203.56180566, 249.70879935, 227.05363736, 269.62132636,\n",
       "       282.41479706, 282.41479706, 208.17948859, 227.05363736,\n",
       "       234.45449413, 186.03581037, 190.08027082, 191.42842431,\n",
       "       229.06188019, 231.75818716, 142.89489889, 148.28751283,\n",
       "       192.00164678, 185.75979905, 185.75979905, 188.45610602,\n",
       "       175.82380498, 187.95718633, 246.58787548, 250.63233593,\n",
       "       196.70619658, 134.52996667, 138.64872991, 195.47288476,\n",
       "       200.86549869, 155.02828024, 351.33179439, 254.67679638,\n",
       "       268.15833122, 240.81118352, 248.90010442, 273.55094515,\n",
       "       341.89472001, 325.09055278, 177.74518094, 179.09333442,\n",
       "       177.74518094, 231.09809781, 273.97556205, 196.04610723,\n",
       "       181.36502449, 204.13502814, 206.8313351 , 212.22394904,\n",
       "       228.40179084, 218.11548266, 223.5080966 , 188.10579191,\n",
       "       182.71317798, 219.46363614, 177.32056404, 178.66871752,\n",
       "       200.09056768, 204.13502814, 200.09056768, 218.96471646,\n",
       "       224.35733039, 217.61656297, 224.35733039, 208.17948859,\n",
       "       224.35733039, 220.31286994, 224.35733039, 231.09809781,\n",
       "       213.57210252, 227.05363736, 233.79440478, 227.05363736,\n",
       "       237.83886523])"
      ]
     },
     "execution_count": 57,
     "metadata": {},
     "output_type": "execute_result"
    }
   ],
   "source": [
    "mlregr.predict(train[['Fuel Consumption','Cylinders','Engine Size']])"
   ]
  },
  {
   "cell_type": "code",
   "execution_count": 81,
   "metadata": {
    "scrolled": true
   },
   "outputs": [
    {
     "name": "stdout",
     "output_type": "stream",
     "text": [
      "13.481534837213712\n",
      "3.2121086156709775\n",
      "4.246168980573878\n"
     ]
    }
   ],
   "source": [
    "for i in mlregr.coef_:\n",
    "    print(i)"
   ]
  },
  {
   "cell_type": "code",
   "execution_count": 93,
   "metadata": {
    "scrolled": true
   },
   "outputs": [
    {
     "data": {
      "text/plain": [
       "[<matplotlib.lines.Line2D at 0x23cf49e62c8>,\n",
       " <matplotlib.lines.Line2D at 0x23cf4a24fc8>,\n",
       " <matplotlib.lines.Line2D at 0x23cf4a271c8>]"
      ]
     },
     "execution_count": 93,
     "metadata": {},
     "output_type": "execute_result"
    },
    {
     "data": {
      "image/png": "[encoded data removed]",
      "text/plain": [
       "<Figure size 432x288 with 1 Axes>"
      ]
     },
     "metadata": {
      "needs_background": "light"
     },
     "output_type": "display_data"
    }
   ],
   "source": [
    "plt.plot(mlr_x,mlr_x*mlregr.coef_[0]+mlr_x*mlregr.coef_[1]+mlr_x*mlregr.coef_[2]+mlregr.intercept_)\n",
    "plt.plot(mlr_x,mlregr.predict(mlr_x))"
   ]
  },
  {
   "cell_type": "code",
   "execution_count": 115,
   "metadata": {},
   "outputs": [
    {
     "data": {
      "text/html": [
       "<div>\n",
       "<style scoped>\n",
       "    .dataframe tbody tr th:only-of-type {\n",
       "        vertical-align: middle;\n",
       "    }\n",
       "\n",
       "    .dataframe tbody tr th {\n",
       "        vertical-align: top;\n",
       "    }\n",
       "\n",
       "    .dataframe thead th {\n",
       "        text-align: right;\n",
       "    }\n",
       "</style>\n",
       "<table border=\"1\" class=\"dataframe\">\n",
       "  <thead>\n",
       "    <tr style=\"text-align: right;\">\n",
       "      <th></th>\n",
       "      <th>Engine Size</th>\n",
       "      <th>Cylinders</th>\n",
       "      <th>Fuel Consumption</th>\n",
       "      <th>CO2 Emissions</th>\n",
       "    </tr>\n",
       "  </thead>\n",
       "  <tbody>\n",
       "    <tr>\n",
       "      <td>3</td>\n",
       "      <td>3.5</td>\n",
       "      <td>6.0</td>\n",
       "      <td>12.2</td>\n",
       "      <td>258.0</td>\n",
       "    </tr>\n",
       "    <tr>\n",
       "      <td>10</td>\n",
       "      <td>2.4</td>\n",
       "      <td>4.0</td>\n",
       "      <td>10.2</td>\n",
       "      <td>209.0</td>\n",
       "    </tr>\n",
       "    <tr>\n",
       "      <td>12</td>\n",
       "      <td>3.5</td>\n",
       "      <td>6.0</td>\n",
       "      <td>12.0</td>\n",
       "      <td>240.0</td>\n",
       "    </tr>\n",
       "    <tr>\n",
       "      <td>19</td>\n",
       "      <td>2.0</td>\n",
       "      <td>4.0</td>\n",
       "      <td>10.8</td>\n",
       "      <td>226.0</td>\n",
       "    </tr>\n",
       "    <tr>\n",
       "      <td>23</td>\n",
       "      <td>5.2</td>\n",
       "      <td>12.0</td>\n",
       "      <td>16.4</td>\n",
       "      <td>324.0</td>\n",
       "    </tr>\n",
       "    <tr>\n",
       "      <td>...</td>\n",
       "      <td>...</td>\n",
       "      <td>...</td>\n",
       "      <td>...</td>\n",
       "      <td>...</td>\n",
       "    </tr>\n",
       "    <tr>\n",
       "      <td>1012</td>\n",
       "      <td>2.0</td>\n",
       "      <td>4.0</td>\n",
       "      <td>9.0</td>\n",
       "      <td>191.0</td>\n",
       "    </tr>\n",
       "    <tr>\n",
       "      <td>1015</td>\n",
       "      <td>1.4</td>\n",
       "      <td>4.0</td>\n",
       "      <td>8.2</td>\n",
       "      <td>172.0</td>\n",
       "    </tr>\n",
       "    <tr>\n",
       "      <td>1025</td>\n",
       "      <td>1.8</td>\n",
       "      <td>4.0</td>\n",
       "      <td>10.8</td>\n",
       "      <td>218.0</td>\n",
       "    </tr>\n",
       "    <tr>\n",
       "      <td>1032</td>\n",
       "      <td>2.0</td>\n",
       "      <td>4.0</td>\n",
       "      <td>11.1</td>\n",
       "      <td>228.0</td>\n",
       "    </tr>\n",
       "    <tr>\n",
       "      <td>1033</td>\n",
       "      <td>2.0</td>\n",
       "      <td>4.0</td>\n",
       "      <td>9.9</td>\n",
       "      <td>197.0</td>\n",
       "    </tr>\n",
       "  </tbody>\n",
       "</table>\n",
       "<p>213 rows × 4 columns</p>\n",
       "</div>"
      ],
      "text/plain": [
       "      Engine Size  Cylinders  Fuel Consumption  CO2 Emissions\n",
       "3             3.5        6.0              12.2          258.0\n",
       "10            2.4        4.0              10.2          209.0\n",
       "12            3.5        6.0              12.0          240.0\n",
       "19            2.0        4.0              10.8          226.0\n",
       "23            5.2       12.0              16.4          324.0\n",
       "...           ...        ...               ...            ...\n",
       "1012          2.0        4.0               9.0          191.0\n",
       "1015          1.4        4.0               8.2          172.0\n",
       "1025          1.8        4.0              10.8          218.0\n",
       "1032          2.0        4.0              11.1          228.0\n",
       "1033          2.0        4.0               9.9          197.0\n",
       "\n",
       "[213 rows x 4 columns]"
      ]
     },
     "execution_count": 115,
     "metadata": {},
     "output_type": "execute_result"
    }
   ],
   "source": [
    "test"
   ]
  },
  {
   "cell_type": "code",
   "execution_count": 108,
   "metadata": {},
   "outputs": [
    {
     "data": {
      "text/plain": [
       "array([135.64471522])"
      ]
     },
     "execution_count": 108,
     "metadata": {},
     "output_type": "execute_result"
    }
   ],
   "source": [
    "mlregr.predict([[2,4,10]])"
   ]
  },
  {
   "cell_type": "markdown",
   "metadata": {},
   "source": [
    "## Polynomial Regression"
   ]
  },
  {
   "cell_type": "code",
   "execution_count": 128,
   "metadata": {
    "scrolled": true
   },
   "outputs": [
    {
     "name": "stdout",
     "output_type": "stream",
     "text": [
      "      Engine Size  Cylinders  Fuel Consumption  CO2 Emissions\n",
      "1             2.4        4.0               9.9          199.0\n",
      "4             3.0        6.0               9.1          210.0\n",
      "11            3.5        6.0              11.4          228.0\n",
      "12            3.5        6.0              12.0          240.0\n",
      "14            1.8        4.0               9.7          197.0\n",
      "...           ...        ...               ...            ...\n",
      "1023          1.4        4.0               8.2          172.0\n",
      "1036          2.0        4.0              11.1          219.0\n",
      "1039          2.0        4.0              10.8          218.0\n",
      "1040          2.0        4.0              11.1          219.0\n",
      "1046          2.0        4.0              12.1          250.0\n",
      "\n",
      "[198 rows x 4 columns]       Engine Size  Cylinders  Fuel Consumption  CO2 Emissions\n",
      "2             3.5        6.0              12.2          252.0\n",
      "3             3.5        6.0              12.2          258.0\n",
      "5             3.5        6.0              11.1          261.0\n",
      "6             2.0        4.0              11.0          232.0\n",
      "7             2.0        4.0              11.3          242.0\n",
      "...           ...        ...               ...            ...\n",
      "1041          2.0        4.0              11.6          233.0\n",
      "1042          2.0        4.0              10.3          211.0\n",
      "1043          2.0        4.0              11.3          233.0\n",
      "1044          2.0        4.0              11.8          242.0\n",
      "1045          2.0        4.0              11.3          233.0\n",
      "\n",
      "[848 rows x 4 columns]\n"
     ]
    }
   ],
   "source": [
    "training_data_set = np.random.rand(len(df1))< 0.8\n",
    "test_data_set = df1[~training_data_set]\n",
    "training_data_set= df1[training_data_set]\n",
    "print(test_data_set,training_data_set)"
   ]
  },
  {
   "cell_type": "code",
   "execution_count": 138,
   "metadata": {},
   "outputs": [],
   "source": [
    "training_data_set_x = training_data_set['Engine Size']\n",
    "training_data_set_y = training_data_set['CO2 Emissions']\n",
    "test_data_set_x = test_data_set['Engine Size']\n",
    "test_data_set_y = test_data_set['CO2 Emissions']\n",
    "polynomial_to_linear = PolynomialFeatures(degree=2)\n",
    "polynomial_to_linear_x = polynomial_to_linear.fit_transform([training_data_set_x]) \n"
   ]
  }
 ],
 "metadata": {
  "kernelspec": {
   "display_name": "Python 3",
   "language": "python",
   "name": "python3"
  },
  "language_info": {
   "codemirror_mode": {
    "name": "ipython",
    "version": 3
   },
   "file_extension": ".py",
   "mimetype": "text/x-python",
   "name": "python",
   "nbconvert_exporter": "python",
   "pygments_lexer": "ipython3",
   "version": "3.7.4"
  }
 },
 "nbformat": 4,
 "nbformat_minor": 2
}
