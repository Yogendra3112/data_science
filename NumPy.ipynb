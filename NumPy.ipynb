{
 "cells": [
  {
   "cell_type": "code",
   "execution_count": 13,
   "metadata": {},
   "outputs": [
    {
     "name": "stdout",
     "output_type": "stream",
     "text": [
      "Welcome to NumPy\n"
     ]
    }
   ],
   "source": [
    "print('Welcome to NumPy')"
   ]
  },
  {
   "cell_type": "code",
   "execution_count": 14,
   "metadata": {},
   "outputs": [],
   "source": [
    "import numpy as np\n",
    "import time\n",
    "import sys"
   ]
  },
  {
   "cell_type": "markdown",
   "metadata": {},
   "source": [
    "## Why NumPy over List"
   ]
  },
  {
   "cell_type": "markdown",
   "metadata": {},
   "source": [
    "### Small sized"
   ]
  },
  {
   "cell_type": "code",
   "execution_count": 38,
   "metadata": {
    "scrolled": true
   },
   "outputs": [
    {
     "name": "stdout",
     "output_type": "stream",
     "text": [
      "2400000\n",
      "400000\n"
     ]
    }
   ],
   "source": [
    "list1 = range(100000)\n",
    "print(sys.getsizeof(list1[0])*100000)\n",
    "\n",
    "ar1 = np.arange(100000)\n",
    "print(ar1.size*ar1.itemsize)"
   ]
  },
  {
   "cell_type": "markdown",
   "metadata": {},
   "source": [
    "### Faster"
   ]
  },
  {
   "cell_type": "code",
   "execution_count": 45,
   "metadata": {},
   "outputs": [
    {
     "name": "stdout",
     "output_type": "stream",
     "text": [
      "228.7006378173828\n",
      "8670.759201049805\n"
     ]
    }
   ],
   "source": [
    "list1 = range(100000)\n",
    "list2 = range(100000)\n",
    "\n",
    "time1 = time.time()\n",
    "list2 = [a+b for a, b in zip(list1, list2)]\n",
    "\n",
    "print((time.time()-time1)*10000)\n",
    "\n",
    "ar1 = np.arange(100000)\n",
    "ar2 = np.arange(100000)\n",
    "\n",
    "time2 = time.time()\n",
    "ar2 = ar1+ar2\n",
    "print((time.time()-time2)*100000)"
   ]
  },
  {
   "cell_type": "markdown",
   "metadata": {},
   "source": [
    "### Easy Computations"
   ]
  },
  {
   "cell_type": "code",
   "execution_count": 50,
   "metadata": {},
   "outputs": [
    {
     "name": "stdout",
     "output_type": "stream",
     "text": [
      "[6, 6, 6, 6, 6]\n",
      "[6 6 6 6 6]\n"
     ]
    }
   ],
   "source": [
    "list1 = [1,2,3,4,5]\n",
    "list2 = [5,4,3,2,1]\n",
    "summ = [i+j for i, j in zip(list1,list2)]\n",
    "print(summ)\n",
    "\n",
    "ar1 = np.array([1,2,3,4,5])\n",
    "ar2 = np.array([5,4,3,2,1])\n",
    "summ = ar1+ar2\n",
    "print(summ)"
   ]
  },
  {
   "cell_type": "markdown",
   "metadata": {},
   "source": [
    "### N Dimentional Array"
   ]
  },
  {
   "cell_type": "code",
   "execution_count": 104,
   "metadata": {
    "scrolled": true
   },
   "outputs": [
    {
     "name": "stdout",
     "output_type": "stream",
     "text": [
      "[1 2 3 4 5]\n",
      "1\n",
      "(5,)\n",
      "int64\n",
      "40\n",
      "40\n"
     ]
    }
   ],
   "source": [
    "ar1d = np.array([1,2,3,4,5], dtype='int64')\n",
    "print(ar1d)\n",
    "print(ar1d.ndim)\n",
    "print(ar1d.shape)\n",
    "print(ar1d.dtype)\n",
    "print(ar1d.size*ar1d.itemsize)\n",
    "print(ar1d.nbytes)"
   ]
  },
  {
   "cell_type": "code",
   "execution_count": 99,
   "metadata": {},
   "outputs": [
    {
     "name": "stdout",
     "output_type": "stream",
     "text": [
      "[[1 2 3 4 5]\n",
      " [2 4 6 8 0]]\n",
      "2\n",
      "(2, 5)\n",
      "int32\n",
      "40\n"
     ]
    }
   ],
   "source": [
    "ar2d = np.array([[1,2,3,4,5],[2,4,6,8,0]])\n",
    "print(ar2d)\n",
    "print(ar2d.ndim)\n",
    "print(ar2d.shape)\n",
    "print(ar2d.dtype)\n",
    "print(ar2d.size*ar2d.itemsize)"
   ]
  },
  {
   "cell_type": "code",
   "execution_count": 98,
   "metadata": {},
   "outputs": [
    {
     "name": "stdout",
     "output_type": "stream",
     "text": [
      "[[[1 2 3 4 5]\n",
      "  [2 4 6 8 0]]\n",
      "\n",
      " [[1 2 3 4 5]\n",
      "  [1 3 5 7 9]]]\n",
      "3\n",
      "(2, 2, 5)\n",
      "int32\n",
      "80\n"
     ]
    }
   ],
   "source": [
    "ar3d = np.array([[[1,2,3,4,5],[2,4,6,8,0]],[[1,2,3,4,5],[1,3,5,7,9]]])\n",
    "print(ar3d) \n",
    "print(ar3d.ndim)\n",
    "print(ar3d.shape)\n",
    "print(ar3d.dtype)\n",
    "print(ar3d.size*ar3d.itemsize)"
   ]
  },
  {
   "cell_type": "code",
   "execution_count": 97,
   "metadata": {},
   "outputs": [
    {
     "name": "stdout",
     "output_type": "stream",
     "text": [
      "[[[[1]\n",
      "   [1]]\n",
      "\n",
      "  [[1]\n",
      "   [1]]\n",
      "\n",
      "  [[1]\n",
      "   [1]]\n",
      "\n",
      "  [[1]\n",
      "   [1]]]\n",
      "\n",
      "\n",
      " [[[1]\n",
      "   [1]]\n",
      "\n",
      "  [[1]\n",
      "   [1]]\n",
      "\n",
      "  [[1]\n",
      "   [1]]\n",
      "\n",
      "  [[1]\n",
      "   [1]]]]\n",
      "4\n",
      "(2, 4, 2, 1)\n",
      "int32\n",
      "64\n"
     ]
    }
   ],
   "source": [
    "ar4d = np.array([[[[1],[1]],[[1],[1]], [[1],[1]],[[1],[1]]], [[[1],[1]],[[1],[1]], [[1],[1]],[[1],[1]]]])\n",
    "print(ar4d)\n",
    "print(ar4d.ndim)\n",
    "print(ar4d.shape)\n",
    "print(ar4d.dtype)\n",
    "print(ar4d.size*ar4d.itemsize)"
   ]
  }
 ],
 "metadata": {
  "kernelspec": {
   "display_name": "Python 3",
   "language": "python",
   "name": "python3"
  },
  "language_info": {
   "codemirror_mode": {
    "name": "ipython",
    "version": 3
   },
   "file_extension": ".py",
   "mimetype": "text/x-python",
   "name": "python",
   "nbconvert_exporter": "python",
   "pygments_lexer": "ipython3",
   "version": "3.7.4"
  }
 },
 "nbformat": 4,
 "nbformat_minor": 2
}
