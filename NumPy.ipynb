{
 "cells": [
  {
   "cell_type": "code",
   "execution_count": 13,
   "metadata": {},
   "outputs": [
    {
     "name": "stdout",
     "output_type": "stream",
     "text": [
      "Welcome to NumPy\n"
     ]
    }
   ],
   "source": [
    "print('Welcome to NumPy')"
   ]
  },
  {
   "cell_type": "code",
   "execution_count": 14,
   "metadata": {},
   "outputs": [],
   "source": [
    "import numpy as np\n",
    "import time\n",
    "import sys"
   ]
  },
  {
   "cell_type": "markdown",
   "metadata": {},
   "source": [
    "## Why NumPy over List"
   ]
  },
  {
   "cell_type": "markdown",
   "metadata": {},
   "source": [
    "### Small sized"
   ]
  },
  {
   "cell_type": "code",
   "execution_count": 38,
   "metadata": {
    "scrolled": true
   },
   "outputs": [
    {
     "name": "stdout",
     "output_type": "stream",
     "text": [
      "2400000\n",
      "400000\n"
     ]
    }
   ],
   "source": [
    "list1 = range(100000)\n",
    "print(sys.getsizeof(list1[0])*100000)\n",
    "\n",
    "ar1 = np.arange(100000)\n",
    "print(ar1.size*ar1.itemsize)"
   ]
  },
  {
   "cell_type": "markdown",
   "metadata": {},
   "source": [
    "### Faster"
   ]
  },
  {
   "cell_type": "code",
   "execution_count": 45,
   "metadata": {},
   "outputs": [
    {
     "name": "stdout",
     "output_type": "stream",
     "text": [
      "228.7006378173828\n",
      "8670.759201049805\n"
     ]
    }
   ],
   "source": [
    "list1 = range(100000)\n",
    "list2 = range(100000)\n",
    "\n",
    "time1 = time.time()\n",
    "list2 = [a+b for a, b in zip(list1, list2)]\n",
    "\n",
    "print((time.time()-time1)*10000)\n",
    "\n",
    "ar1 = np.arange(100000)\n",
    "ar2 = np.arange(100000)\n",
    "\n",
    "time2 = time.time()\n",
    "ar2 = ar1+ar2\n",
    "print((time.time()-time2)*100000)"
   ]
  },
  {
   "cell_type": "markdown",
   "metadata": {},
   "source": [
    "### Easy Computations"
   ]
  },
  {
   "cell_type": "code",
   "execution_count": 50,
   "metadata": {},
   "outputs": [
    {
     "name": "stdout",
     "output_type": "stream",
     "text": [
      "[6, 6, 6, 6, 6]\n",
      "[6 6 6 6 6]\n"
     ]
    }
   ],
   "source": [
    "list1 = [1,2,3,4,5]\n",
    "list2 = [5,4,3,2,1]\n",
    "summ = [i+j for i, j in zip(list1,list2)]\n",
    "print(summ)\n",
    "\n",
    "ar1 = np.array([1,2,3,4,5])\n",
    "ar2 = np.array([5,4,3,2,1])\n",
    "summ = ar1+ar2\n",
    "print(summ)"
   ]
  },
  {
   "cell_type": "code",
   "execution_count": 12,
   "metadata": {
    "scrolled": true
   },
   "outputs": [
    {
     "name": "stdout",
     "output_type": "stream",
     "text": [
      "int64\n"
     ]
    }
   ],
   "source": [
    "ar1 = np.array([1,2,3,4,5,6,7,8,9], dtype='int64')\n",
    "print(ar1.dtype)"
   ]
  },
  {
   "cell_type": "code",
   "execution_count": null,
   "metadata": {},
   "outputs": [],
   "source": []
  }
 ],
 "metadata": {
  "kernelspec": {
   "display_name": "Python 3",
   "language": "python",
   "name": "python3"
  },
  "language_info": {
   "codemirror_mode": {
    "name": "ipython",
    "version": 3
   },
   "file_extension": ".py",
   "mimetype": "text/x-python",
   "name": "python",
   "nbconvert_exporter": "python",
   "pygments_lexer": "ipython3",
   "version": "3.7.4"
  }
 },
 "nbformat": 4,
 "nbformat_minor": 2
}
