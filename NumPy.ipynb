{
 "cells": [
  {
   "cell_type": "code",
   "execution_count": 13,
   "metadata": {},
   "outputs": [
    {
     "name": "stdout",
     "output_type": "stream",
     "text": [
      "Welcome to NumPy\n"
     ]
    }
   ],
   "source": [
    "print('Welcome to NumPy')"
   ]
  },
  {
   "cell_type": "code",
   "execution_count": 14,
   "metadata": {},
   "outputs": [],
   "source": [
    "import numpy as np\n",
    "import time\n",
    "import sys"
   ]
  },
  {
   "cell_type": "markdown",
   "metadata": {},
   "source": [
    "## Why NumPy over List"
   ]
  },
  {
   "cell_type": "markdown",
   "metadata": {},
   "source": [
    "### Small sized"
   ]
  },
  {
   "cell_type": "code",
   "execution_count": 38,
   "metadata": {
    "scrolled": true
   },
   "outputs": [
    {
     "name": "stdout",
     "output_type": "stream",
     "text": [
      "2400000\n",
      "400000\n"
     ]
    }
   ],
   "source": [
    "list1 = range(100000)\n",
    "print(sys.getsizeof(list1[0])*100000)\n",
    "\n",
    "ar1 = np.arange(100000)\n",
    "print(ar1.size*ar1.itemsize)"
   ]
  },
  {
   "cell_type": "markdown",
   "metadata": {},
   "source": [
    "### Faster"
   ]
  },
  {
   "cell_type": "code",
   "execution_count": 45,
   "metadata": {},
   "outputs": [
    {
     "name": "stdout",
     "output_type": "stream",
     "text": [
      "228.7006378173828\n",
      "8670.759201049805\n"
     ]
    }
   ],
   "source": [
    "list1 = range(100000)\n",
    "list2 = range(100000)\n",
    "\n",
    "time1 = time.time()\n",
    "list2 = [a+b for a, b in zip(list1, list2)]\n",
    "\n",
    "print((time.time()-time1)*10000)\n",
    "\n",
    "ar1 = np.arange(100000)\n",
    "ar2 = np.arange(100000)\n",
    "\n",
    "time2 = time.time()\n",
    "ar2 = ar1+ar2\n",
    "print((time.time()-time2)*100000)"
   ]
  },
  {
   "cell_type": "markdown",
   "metadata": {},
   "source": [
    "### Easy Computations"
   ]
  },
  {
   "cell_type": "code",
   "execution_count": 50,
   "metadata": {},
   "outputs": [
    {
     "name": "stdout",
     "output_type": "stream",
     "text": [
      "[6, 6, 6, 6, 6]\n",
      "[6 6 6 6 6]\n"
     ]
    }
   ],
   "source": [
    "list1 = [1,2,3,4,5]\n",
    "list2 = [5,4,3,2,1]\n",
    "summ = [i+j for i, j in zip(list1,list2)]\n",
    "print(summ)\n",
    "\n",
    "ar1 = np.array([1,2,3,4,5])\n",
    "ar2 = np.array([5,4,3,2,1])\n",
    "summ = ar1+ar2\n",
    "print(summ)"
   ]
  },
  {
   "cell_type": "markdown",
   "metadata": {},
   "source": [
    "### N Dimentional Array"
   ]
  },
  {
   "cell_type": "code",
   "execution_count": 104,
   "metadata": {
    "scrolled": true
   },
   "outputs": [
    {
     "name": "stdout",
     "output_type": "stream",
     "text": [
      "[1 2 3 4 5]\n",
      "1\n",
      "(5,)\n",
      "int64\n",
      "40\n",
      "40\n"
     ]
    }
   ],
   "source": [
    "ar1d = np.array([1,2,3,4,5], dtype='int64')\n",
    "print(ar1d)\n",
    "print(ar1d.ndim)\n",
    "print(ar1d.shape)\n",
    "print(ar1d.dtype)\n",
    "print(ar1d.size*ar1d.itemsize)\n",
    "print(ar1d.nbytes)"
   ]
  },
  {
   "cell_type": "code",
   "execution_count": 106,
   "metadata": {},
   "outputs": [
    {
     "name": "stdout",
     "output_type": "stream",
     "text": [
      "[[1 2 3 4 5]\n",
      " [2 4 6 8 0]]\n",
      "2\n",
      "(2, 5)\n",
      "int32\n",
      "40\n",
      "40\n"
     ]
    }
   ],
   "source": [
    "ar2d = np.array([[1,2,3,4,5],[2,4,6,8,0]])\n",
    "print(ar2d)\n",
    "print(ar2d.ndim)\n",
    "print(ar2d.shape)\n",
    "print(ar2d.dtype)\n",
    "print(ar2d.size*ar2d.itemsize)\n",
    "print(ar2d.nbytes)"
   ]
  },
  {
   "cell_type": "code",
   "execution_count": 107,
   "metadata": {},
   "outputs": [
    {
     "name": "stdout",
     "output_type": "stream",
     "text": [
      "[[[1 2 3 4 5]\n",
      "  [2 4 6 8 0]]\n",
      "\n",
      " [[1 2 3 4 5]\n",
      "  [1 3 5 7 9]]]\n",
      "3\n",
      "(2, 2, 5)\n",
      "int32\n",
      "80\n",
      "80\n"
     ]
    }
   ],
   "source": [
    "ar3d = np.array([[[1,2,3,4,5],[2,4,6,8,0]],[[1,2,3,4,5],[1,3,5,7,9]]])\n",
    "print(ar3d) \n",
    "print(ar3d.ndim)\n",
    "print(ar3d.shape)\n",
    "print(ar3d.dtype)\n",
    "print(ar3d.size*ar3d.itemsize)\n",
    "print(ar3d.nbytes)"
   ]
  },
  {
   "cell_type": "code",
   "execution_count": 108,
   "metadata": {},
   "outputs": [
    {
     "name": "stdout",
     "output_type": "stream",
     "text": [
      "[[[[1]\n",
      "   [1]]\n",
      "\n",
      "  [[1]\n",
      "   [1]]\n",
      "\n",
      "  [[1]\n",
      "   [1]]\n",
      "\n",
      "  [[1]\n",
      "   [1]]]\n",
      "\n",
      "\n",
      " [[[1]\n",
      "   [1]]\n",
      "\n",
      "  [[1]\n",
      "   [1]]\n",
      "\n",
      "  [[1]\n",
      "   [1]]\n",
      "\n",
      "  [[1]\n",
      "   [1]]]]\n",
      "4\n",
      "(2, 4, 2, 1)\n",
      "int32\n",
      "64\n",
      "64\n"
     ]
    }
   ],
   "source": [
    "ar4d = np.array([[[[1],[1]],[[1],[1]], [[1],[1]],[[1],[1]]], [[[1],[1]],[[1],[1]], [[1],[1]],[[1],[1]]]])\n",
    "print(ar4d)\n",
    "print(ar4d.ndim)\n",
    "print(ar4d.shape)\n",
    "print(ar4d.dtype)\n",
    "print(ar4d.size*ar4d.itemsize)\n",
    "print(ar4d.nbytes)"
   ]
  },
  {
   "cell_type": "markdown",
   "metadata": {},
   "source": [
    "## Slicing, Indexing and Reshaping"
   ]
  },
  {
   "cell_type": "code",
   "execution_count": 133,
   "metadata": {
    "scrolled": true
   },
   "outputs": [
    {
     "name": "stdout",
     "output_type": "stream",
     "text": [
      "[[['a' 'b' 'c']\n",
      "  ['a' 'b' 'c']]\n",
      "\n",
      " [['c' 'b' 'a']\n",
      "  ['b' 'c' 'a']]]\n",
      "c\n",
      "Slice at [0:,0:,1]  :\n",
      "  [['b' 'b']\n",
      " ['b' 'c']] \n",
      "\n",
      "After assignment   :\n",
      " [[['a' '1' 'c']\n",
      "  ['a' '1' 'c']]\n",
      "\n",
      " [['c' '2' 'a']\n",
      "  ['b' '2' 'a']]]\n",
      "Reshaped  : \n",
      " [[['a' '1']\n",
      "  ['c' 'a']]\n",
      "\n",
      " [['1' 'c']\n",
      "  ['c' '2']]\n",
      "\n",
      " [['a' 'b']\n",
      "  ['2' 'a']]]\n"
     ]
    }
   ],
   "source": [
    "slicing = np.array([[['a','b','c'],['a', 'b', 'c']],[['c', 'b', 'a'],['b','c','a']]])\n",
    "print(slicing)\n",
    "print(slicing[1,1,1])               # element at1th row's 1th col of 1th slice of 3d array\n",
    "print('Slice at [0:,0:,1]  :\\n ',slicing[0:,0:,1],'\\n')\n",
    "slicing[0:,0:,1]=[[1,1],[2,2]]      #assigning new values    \n",
    "print('After assignment   :\\n',slicing)\n",
    "print('Reshaped  : \\n',slicing.reshape(3,2,2))"
   ]
  },
  {
   "cell_type": "markdown",
   "metadata": {},
   "source": [
    "## Initialising an array"
   ]
  },
  {
   "cell_type": "code",
   "execution_count": 136,
   "metadata": {},
   "outputs": [
    {
     "data": {
      "text/plain": [
       "array([[0., 0., 0., 0., 0.],\n",
       "       [0., 0., 0., 0., 0.],\n",
       "       [0., 0., 0., 0., 0.],\n",
       "       [0., 0., 0., 0., 0.],\n",
       "       [0., 0., 0., 0., 0.]])"
      ]
     },
     "execution_count": 136,
     "metadata": {},
     "output_type": "execute_result"
    }
   ],
   "source": [
    "np.zeros((5,5))                                      # array with all zeros"
   ]
  },
  {
   "cell_type": "code",
   "execution_count": 138,
   "metadata": {},
   "outputs": [
    {
     "data": {
      "text/plain": [
       "array([[1., 1., 1., 1., 1.],\n",
       "       [1., 1., 1., 1., 1.],\n",
       "       [1., 1., 1., 1., 1.],\n",
       "       [1., 1., 1., 1., 1.],\n",
       "       [1., 1., 1., 1., 1.]])"
      ]
     },
     "execution_count": 138,
     "metadata": {},
     "output_type": "execute_result"
    }
   ],
   "source": [
    "np.ones((5,5))                                      # 5X5 array with all ones  "
   ]
  },
  {
   "cell_type": "code",
   "execution_count": 156,
   "metadata": {},
   "outputs": [
    {
     "name": "stdout",
     "output_type": "stream",
     "text": [
      "[[5 5 5 5 5]\n",
      " [5 5 5 5 5]\n",
      " [5 5 5 5 5]\n",
      " [5 5 5 5 5]\n",
      " [5 5 5 5 5]]\n"
     ]
    }
   ],
   "source": [
    "arr = np.full((5,5), 5)                                  # 5X5 with all 5\n",
    "print(arr)"
   ]
  },
  {
   "cell_type": "code",
   "execution_count": 157,
   "metadata": {},
   "outputs": [
    {
     "data": {
      "text/plain": [
       "array([[15, 15, 15, 15, 15],\n",
       "       [15, 15, 15, 15, 15],\n",
       "       [15, 15, 15, 15, 15],\n",
       "       [15, 15, 15, 15, 15],\n",
       "       [15, 15, 15, 15, 15]])"
      ]
     },
     "execution_count": 157,
     "metadata": {},
     "output_type": "execute_result"
    }
   ],
   "source": [
    "np.full_like(arr,15)                                    # array like arr "
   ]
  },
  {
   "cell_type": "code",
   "execution_count": 160,
   "metadata": {},
   "outputs": [
    {
     "data": {
      "text/plain": [
       "array([[[0.1837441 , 0.29326603, 0.26013539, 0.18134089, 0.55064107],\n",
       "        [0.06449073, 0.93759379, 0.54198664, 0.97197053, 0.14721361]],\n",
       "\n",
       "       [[0.03907645, 0.93171   , 0.82747529, 0.72811746, 0.4358824 ],\n",
       "        [0.27756008, 0.97420049, 0.35194944, 0.058216  , 0.98830639]]])"
      ]
     },
     "execution_count": 160,
     "metadata": {},
     "output_type": "execute_result"
    }
   ],
   "source": [
    "np.random.rand(2,2,5)                                 # gives array of given size values 0-1"
   ]
  },
  {
   "cell_type": "code",
   "execution_count": 163,
   "metadata": {},
   "outputs": [
    {
     "data": {
      "text/plain": [
       "array([[0.61995649, 0.16792972, 0.09076765, 0.53765607, 0.93442098],\n",
       "       [0.24304683, 0.44950302, 0.93016929, 0.37370564, 0.90715145],\n",
       "       [0.63182651, 0.14392902, 0.49196004, 0.61878507, 0.06894629],\n",
       "       [0.91467261, 0.8949256 , 0.10662388, 0.63023388, 0.42840266],\n",
       "       [0.11441561, 0.8085523 , 0.26540261, 0.66912789, 0.16458094]])"
      ]
     },
     "execution_count": 163,
     "metadata": {},
     "output_type": "execute_result"
    }
   ],
   "source": [
    "np.random.random_sample(arr.shape)                   "
   ]
  },
  {
   "cell_type": "code",
   "execution_count": 171,
   "metadata": {},
   "outputs": [
    {
     "data": {
      "text/plain": [
       "array([[4, 2, 3, 4, 3],\n",
       "       [4, 2, 4, 2, 4],\n",
       "       [3, 3, 2, 3, 3],\n",
       "       [2, 3, 2, 3, 2],\n",
       "       [2, 2, 4, 2, 4]])"
      ]
     },
     "execution_count": 171,
     "metadata": {},
     "output_type": "execute_result"
    }
   ],
   "source": [
    "np.random.randint(2,5, size=(5,5))                   # array with random integers of given size"
   ]
  },
  {
   "cell_type": "code",
   "execution_count": 176,
   "metadata": {},
   "outputs": [
    {
     "name": "stdout",
     "output_type": "stream",
     "text": [
      "[[1. 0. 0.]\n",
      " [0. 1. 0.]\n",
      " [0. 0. 1.]]\n"
     ]
    }
   ],
   "source": [
    "a = np.identity(3)                                      # identity matrix of size 3\n",
    "print(a)"
   ]
  },
  {
   "cell_type": "code",
   "execution_count": 189,
   "metadata": {},
   "outputs": [
    {
     "data": {
      "text/plain": [
       "array([[1., 1., 1., 0., 0., 0., 0., 0., 0.]])"
      ]
     },
     "execution_count": 189,
     "metadata": {},
     "output_type": "execute_result"
    }
   ],
   "source": [
    "np.repeat([a[0,:]],3, axis=1)"
   ]
  },
  {
   "cell_type": "code",
   "execution_count": 190,
   "metadata": {},
   "outputs": [
    {
     "data": {
      "text/plain": [
       "array([[1., 0., 0.],\n",
       "       [1., 0., 0.],\n",
       "       [1., 0., 0.]])"
      ]
     },
     "execution_count": 190,
     "metadata": {},
     "output_type": "execute_result"
    }
   ],
   "source": [
    "np.repeat([a[0,:]],3, axis=0)"
   ]
  },
  {
   "cell_type": "code",
   "execution_count": 192,
   "metadata": {},
   "outputs": [
    {
     "ename": "ModuleNotFoundError",
     "evalue": "No module named 'ipkernel'",
     "output_type": "error",
     "traceback": [
      "\u001b[1;31m---------------------------------------------------------------------------\u001b[0m",
      "\u001b[1;31mModuleNotFoundError\u001b[0m                       Traceback (most recent call last)",
      "\u001b[1;32m<ipython-input-192-ad95460d27eb>\u001b[0m in \u001b[0;36m<module>\u001b[1;34m\u001b[0m\n\u001b[1;32m----> 1\u001b[1;33m \u001b[1;32mimport\u001b[0m \u001b[0mipkernel\u001b[0m\u001b[1;33m\u001b[0m\u001b[1;33m\u001b[0m\u001b[0m\n\u001b[0m\u001b[0;32m      2\u001b[0m \u001b[0mhelp\u001b[0m\u001b[1;33m(\u001b[0m\u001b[1;34m'modules'\u001b[0m\u001b[1;33m)\u001b[0m\u001b[1;33m\u001b[0m\u001b[1;33m\u001b[0m\u001b[0m\n",
      "\u001b[1;31mModuleNotFoundError\u001b[0m: No module named 'ipkernel'"
     ]
    }
   ],
   "source": [
    "import ipkernel\n",
    "help('modules')"
   ]
  },
  {
   "cell_type": "code",
   "execution_count": 194,
   "metadata": {},
   "outputs": [
    {
     "data": {
      "text/plain": [
       "4.0"
      ]
     },
     "execution_count": 194,
     "metadata": {},
     "output_type": "execute_result"
    }
   ],
   "source": [
    "np.sqrt(16)"
   ]
  },
  {
   "cell_type": "code",
   "execution_count": 207,
   "metadata": {},
   "outputs": [
    {
     "name": "stdout",
     "output_type": "stream",
     "text": [
      "[[1. 1. 1. 1. 1.]\n",
      " [1. 0. 0. 0. 1.]\n",
      " [1. 0. 0. 0. 1.]\n",
      " [1. 0. 0. 0. 1.]\n",
      " [1. 1. 1. 1. 1.]]\n"
     ]
    }
   ],
   "source": [
    "b = np.ones((5,5))\n",
    "b[1:4,1:4]=0\n",
    "print(b)"
   ]
  }
 ],
 "metadata": {
  "kernelspec": {
   "display_name": "Python 3",
   "language": "python",
   "name": "python3"
  },
  "language_info": {
   "codemirror_mode": {
    "name": "ipython",
    "version": 3
   },
   "file_extension": ".py",
   "mimetype": "text/x-python",
   "name": "python",
   "nbconvert_exporter": "python",
   "pygments_lexer": "ipython3",
   "version": "3.7.4"
  }
 },
 "nbformat": 4,
 "nbformat_minor": 2
}
