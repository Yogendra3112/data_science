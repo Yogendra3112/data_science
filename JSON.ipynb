{
 "cells": [
  {
   "cell_type": "code",
   "execution_count": 1,
   "metadata": {},
   "outputs": [],
   "source": [
    "import json                                  "
   ]
  },
  {
   "cell_type": "code",
   "execution_count": 28,
   "metadata": {},
   "outputs": [],
   "source": [
    "                                                      # to create json string\n",
    "json_data=\"\"\"{                          \n",
    "\t\"name\": {\n",
    "\t\t\"fname\": \"ram\",\n",
    "\t\t\"lname\": \"kumar\"\n",
    "\t},\n",
    "\t\"mobile\": 9876543210,\n",
    "\t\"address\": {\n",
    "\t\t\"village/city\": \"kanpur\",\n",
    "\t\t\"district\": \"Kanpur\",\n",
    "\t\t\"state\": \"up\",\n",
    "\t\t\"pin\": 215421\n",
    "\t},\n",
    "\t\"salary\": 74185296385\n",
    "}\n",
    "\"\"\""
   ]
  },
  {
   "cell_type": "code",
   "execution_count": 26,
   "metadata": {},
   "outputs": [
    {
     "name": "stdout",
     "output_type": "stream",
     "text": [
      "('name', {'fname': 'ram', 'lname': 'kumar'})\n",
      "('mobile', 9876543210)\n",
      "('address', {'village/city': 'kanpur', 'district': 'Kanpur', 'state': 'up', 'pin': 215421})\n",
      "('salary', 74185296385)\n"
     ]
    }
   ],
   "source": [
    "x=json.loads(json_data)                              # json string to python dict\n",
    "for i in x.items():\n",
    "    print(i)"
   ]
  },
  {
   "cell_type": "code",
   "execution_count": 21,
   "metadata": {},
   "outputs": [
    {
     "data": {
      "text/plain": [
       "dict"
      ]
     },
     "execution_count": 21,
     "metadata": {},
     "output_type": "execute_result"
    }
   ],
   "source": [
    "type(x)"
   ]
  },
  {
   "cell_type": "code",
   "execution_count": 31,
   "metadata": {},
   "outputs": [
    {
     "name": "stdout",
     "output_type": "stream",
     "text": [
      "{'fname': 'ram', 'lname': 'kumar'}\n"
     ]
    }
   ],
   "source": [
    "print(x['name'])"
   ]
  },
  {
   "cell_type": "code",
   "execution_count": 32,
   "metadata": {},
   "outputs": [
    {
     "name": "stdout",
     "output_type": "stream",
     "text": [
      "ram\n"
     ]
    }
   ],
   "source": [
    "print(x['name']['fname'])"
   ]
  },
  {
   "cell_type": "code",
   "execution_count": 40,
   "metadata": {},
   "outputs": [
    {
     "data": {
      "text/plain": [
       "[('village/city', 'kanpur'),\n",
       " ('district', 'Kanpur'),\n",
       " ('state', 'up'),\n",
       " ('pin', 215421)]"
      ]
     },
     "execution_count": 40,
     "metadata": {},
     "output_type": "execute_result"
    }
   ],
   "source": [
    "[i for i in x['address'].items()]"
   ]
  },
  {
   "cell_type": "code",
   "execution_count": 47,
   "metadata": {
    "scrolled": true
   },
   "outputs": [
    {
     "name": "stdout",
     "output_type": "stream",
     "text": [
      "{\"name\": {\"fname\": \"ram\", \"lname\": \"kumar\"}, \"mobile\": 9876543210, \"address\": {\"village/city\": \"kanpur\", \"district\": \"Kanpur\", \"state\": \"up\", \"pin\": 215421}, \"salary\": 74185296385}\n"
     ]
    }
   ],
   "source": [
    "y=json.dumps(x)                                # python dict to json string\n",
    "print(y)"
   ]
  },
  {
   "cell_type": "code",
   "execution_count": 49,
   "metadata": {},
   "outputs": [
    {
     "name": "stdout",
     "output_type": "stream",
     "text": [
      "{\n",
      "  \"name\": {\n",
      "    \"fname\": \"ram\",\n",
      "    \"lname\": \"kumar\"\n",
      "  },\n",
      "  \"mobile\": 9876543210,\n",
      "  \"address\": {\n",
      "    \"village/city\": \"kanpur\",\n",
      "    \"district\": \"Kanpur\",\n",
      "    \"state\": \"up\",\n",
      "    \"pin\": 215421\n",
      "  },\n",
      "  \"salary\": 74185296385\n",
      "}\n"
     ]
    }
   ],
   "source": [
    "y=json.dumps(x,indent=2)                                # python dict to json string with indent\n",
    "print(y)"
   ]
  },
  {
   "cell_type": "code",
   "execution_count": 51,
   "metadata": {},
   "outputs": [
    {
     "name": "stdout",
     "output_type": "stream",
     "text": [
      "{\n",
      "  \"address\": {\n",
      "    \"district\": \"Kanpur\",\n",
      "    \"pin\": 215421,\n",
      "    \"state\": \"up\",\n",
      "    \"village/city\": \"kanpur\"\n",
      "  },\n",
      "  \"mobile\": 9876543210,\n",
      "  \"name\": {\n",
      "    \"fname\": \"ram\",\n",
      "    \"lname\": \"kumar\"\n",
      "  },\n",
      "  \"salary\": 74185296385\n",
      "}\n"
     ]
    }
   ],
   "source": [
    "y=json.dumps(x,indent=2,sort_keys=True)                                # python dict to json string with so\n",
    "print(y)"
   ]
  },
  {
   "cell_type": "code",
   "execution_count": 50,
   "metadata": {},
   "outputs": [
    {
     "data": {
      "text/plain": [
       "str"
      ]
     },
     "execution_count": 50,
     "metadata": {},
     "output_type": "execute_result"
    }
   ],
   "source": [
    "type(y)"
   ]
  },
  {
   "cell_type": "code",
   "execution_count": 8,
   "metadata": {},
   "outputs": [],
   "source": [
    "import requests\n",
    "data=requests.get('http://api.openweathermap.org/data/2.5/weather?q=jaipur&appid=9d0bb998c6c5f0f7419446cbb7b04687')"
   ]
  },
  {
   "cell_type": "code",
   "execution_count": 11,
   "metadata": {},
   "outputs": [
    {
     "data": {
      "text/plain": [
       "75.82"
      ]
     },
     "execution_count": 11,
     "metadata": {},
     "output_type": "execute_result"
    }
   ],
   "source": [
    "k=data.json()\n",
    "k['coord']['lon']\n"
   ]
  },
  {
   "cell_type": "code",
   "execution_count": 12,
   "metadata": {},
   "outputs": [
    {
     "data": {
      "text/plain": [
       "{'coord': {'lon': 75.82, 'lat': 26.92},\n",
       " 'weather': [{'id': 721,\n",
       "   'main': 'Haze',\n",
       "   'description': 'haze',\n",
       "   'icon': '50d'}],\n",
       " 'base': 'stations',\n",
       " 'main': {'temp': 293.15,\n",
       "  'feels_like': 290.14,\n",
       "  'temp_min': 293.15,\n",
       "  'temp_max': 293.15,\n",
       "  'pressure': 1016,\n",
       "  'humidity': 32},\n",
       " 'visibility': 4000,\n",
       " 'wind': {'speed': 2.1, 'deg': 320},\n",
       " 'clouds': {'all': 0},\n",
       " 'dt': 1580300952,\n",
       " 'sys': {'type': 1,\n",
       "  'id': 9170,\n",
       "  'country': 'IN',\n",
       "  'sunrise': 1580262234,\n",
       "  'sunset': 1580301317},\n",
       " 'timezone': 19800,\n",
       " 'id': 1269515,\n",
       " 'name': 'Jaipur',\n",
       " 'cod': 200}"
      ]
     },
     "execution_count": 12,
     "metadata": {},
     "output_type": "execute_result"
    }
   ],
   "source": [
    "k"
   ]
  }
 ],
 "metadata": {
  "kernelspec": {
   "display_name": "Python 3",
   "language": "python",
   "name": "python3"
  },
  "language_info": {
   "codemirror_mode": {
    "name": "ipython",
    "version": 3
   },
   "file_extension": ".py",
   "mimetype": "text/x-python",
   "name": "python",
   "nbconvert_exporter": "python",
   "pygments_lexer": "ipython3",
   "version": "3.7.4"
  }
 },
 "nbformat": 4,
 "nbformat_minor": 2
}
