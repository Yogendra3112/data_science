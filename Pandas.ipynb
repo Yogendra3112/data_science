{
 "cells": [
  {
   "cell_type": "code",
   "execution_count": 2,
   "metadata": {},
   "outputs": [
    {
     "name": "stdout",
     "output_type": "stream",
     "text": [
      "Welcome to Pandas  !!!\n"
     ]
    }
   ],
   "source": [
    "print('Welcome to Pandas  !!!')"
   ]
  },
  {
   "cell_type": "code",
   "execution_count": 3,
   "metadata": {},
   "outputs": [],
   "source": [
    "import pandas as pd"
   ]
  },
  {
   "cell_type": "markdown",
   "metadata": {},
   "source": [
    "## To read file in your system"
   ]
  },
  {
   "cell_type": "code",
   "execution_count": 10,
   "metadata": {
    "scrolled": true
   },
   "outputs": [
    {
     "name": "stdout",
     "output_type": "stream",
     "text": [
      "         rank discipline   phd  service     sex    salary\n",
      "0        Prof          B  56.0       49    Male  186960.0\n",
      "1        Prof          A  12.0        6    Male   93000.0\n",
      "2        Prof          A  23.0       20    Male  110515.0\n",
      "3        Prof          A  40.0       31    Male  131205.0\n",
      "4        Prof          B  20.0       18    Male  104800.0\n",
      "..        ...        ...   ...      ...     ...       ...\n",
      "73       Prof          B  18.0       10  Female  105450.0\n",
      "74  AssocProf          B  19.0        6  Female  104542.0\n",
      "75       Prof          B  17.0       17  Female  124312.0\n",
      "76       Prof          A  28.0       14  Female  109954.0\n",
      "77       Prof          A  23.0       15  Female  109646.0\n",
      "\n",
      "[78 rows x 6 columns]\n"
     ]
    }
   ],
   "source": [
    "df = pd.read_csv(r'C:\\Users\\Yogi\\Downloads\\Salaries.csv')\n",
    "print(df)"
   ]
  },
  {
   "cell_type": "markdown",
   "metadata": {},
   "source": [
    "## To read an online data file"
   ]
  },
  {
   "cell_type": "code",
   "execution_count": 25,
   "metadata": {
    "scrolled": true
   },
   "outputs": [
    {
     "name": "stdout",
     "output_type": "stream",
     "text": [
      "         rank discipline   phd  service     sex    salary\n",
      "0        Prof          B  56.0       49    Male  186960.0\n",
      "1        Prof          A  12.0        6    Male   93000.0\n",
      "2        Prof          A  23.0       20    Male  110515.0\n",
      "3        Prof          A  40.0       31    Male  131205.0\n",
      "4        Prof          B  20.0       18    Male  104800.0\n",
      "..        ...        ...   ...      ...     ...       ...\n",
      "73       Prof          B  18.0       10  Female  105450.0\n",
      "74  AssocProf          B  19.0        6  Female  104542.0\n",
      "75       Prof          B  17.0       17  Female  124312.0\n",
      "76       Prof          A  28.0       14  Female  109954.0\n",
      "77       Prof          A  23.0       15  Female  109646.0\n",
      "\n",
      "[78 rows x 6 columns]\n"
     ]
    }
   ],
   "source": [
    "df = pd.read_csv(\"https://bitbucket.org/ntpl_sylvester/dataset/raw/467616310ddfaf8abbbbc13bdf1e32cdf0842cbd/Salaries.csv\")\n",
    "print(df)\n",
    "                 "
   ]
  },
  {
   "cell_type": "code",
   "execution_count": 14,
   "metadata": {},
   "outputs": [
    {
     "data": {
      "text/html": [
       "<div>\n",
       "<style scoped>\n",
       "    .dataframe tbody tr th:only-of-type {\n",
       "        vertical-align: middle;\n",
       "    }\n",
       "\n",
       "    .dataframe tbody tr th {\n",
       "        vertical-align: top;\n",
       "    }\n",
       "\n",
       "    .dataframe thead th {\n",
       "        text-align: right;\n",
       "    }\n",
       "</style>\n",
       "<table border=\"1\" class=\"dataframe\">\n",
       "  <thead>\n",
       "    <tr style=\"text-align: right;\">\n",
       "      <th></th>\n",
       "      <th>phd</th>\n",
       "      <th>service</th>\n",
       "      <th>salary</th>\n",
       "    </tr>\n",
       "  </thead>\n",
       "  <tbody>\n",
       "    <tr>\n",
       "      <td>count</td>\n",
       "      <td>76.000000</td>\n",
       "      <td>78.000000</td>\n",
       "      <td>76.000000</td>\n",
       "    </tr>\n",
       "    <tr>\n",
       "      <td>mean</td>\n",
       "      <td>19.605263</td>\n",
       "      <td>15.051282</td>\n",
       "      <td>108003.355263</td>\n",
       "    </tr>\n",
       "    <tr>\n",
       "      <td>std</td>\n",
       "      <td>12.508215</td>\n",
       "      <td>12.139768</td>\n",
       "      <td>28525.350088</td>\n",
       "    </tr>\n",
       "    <tr>\n",
       "      <td>min</td>\n",
       "      <td>1.000000</td>\n",
       "      <td>0.000000</td>\n",
       "      <td>57800.000000</td>\n",
       "    </tr>\n",
       "    <tr>\n",
       "      <td>25%</td>\n",
       "      <td>10.000000</td>\n",
       "      <td>5.250000</td>\n",
       "      <td>87250.000000</td>\n",
       "    </tr>\n",
       "    <tr>\n",
       "      <td>50%</td>\n",
       "      <td>18.500000</td>\n",
       "      <td>14.500000</td>\n",
       "      <td>104671.000000</td>\n",
       "    </tr>\n",
       "    <tr>\n",
       "      <td>75%</td>\n",
       "      <td>27.250000</td>\n",
       "      <td>20.750000</td>\n",
       "      <td>127077.750000</td>\n",
       "    </tr>\n",
       "    <tr>\n",
       "      <td>max</td>\n",
       "      <td>56.000000</td>\n",
       "      <td>51.000000</td>\n",
       "      <td>186960.000000</td>\n",
       "    </tr>\n",
       "  </tbody>\n",
       "</table>\n",
       "</div>"
      ],
      "text/plain": [
       "             phd    service         salary\n",
       "count  76.000000  78.000000      76.000000\n",
       "mean   19.605263  15.051282  108003.355263\n",
       "std    12.508215  12.139768   28525.350088\n",
       "min     1.000000   0.000000   57800.000000\n",
       "25%    10.000000   5.250000   87250.000000\n",
       "50%    18.500000  14.500000  104671.000000\n",
       "75%    27.250000  20.750000  127077.750000\n",
       "max    56.000000  51.000000  186960.000000"
      ]
     },
     "execution_count": 14,
     "metadata": {},
     "output_type": "execute_result"
    }
   ],
   "source": [
    "df.describe()"
   ]
  },
  {
   "cell_type": "code",
   "execution_count": 13,
   "metadata": {
    "scrolled": true
   },
   "outputs": [
    {
     "name": "stdout",
     "output_type": "stream",
     "text": [
      "<class 'pandas.core.frame.DataFrame'>\n",
      "RangeIndex: 78 entries, 0 to 77\n",
      "Data columns (total 6 columns):\n",
      "rank          78 non-null object\n",
      "discipline    78 non-null object\n",
      "phd           76 non-null float64\n",
      "service       78 non-null int64\n",
      "sex           78 non-null object\n",
      "salary        76 non-null float64\n",
      "dtypes: float64(2), int64(1), object(3)\n",
      "memory usage: 3.8+ KB\n"
     ]
    }
   ],
   "source": [
    "df.info()"
   ]
  },
  {
   "cell_type": "code",
   "execution_count": 65,
   "metadata": {},
   "outputs": [
    {
     "data": {
      "text/plain": [
       "2"
      ]
     },
     "execution_count": 65,
     "metadata": {},
     "output_type": "execute_result"
    }
   ],
   "source": [
    "df.ndim                                            # gives dimentions of data"
   ]
  },
  {
   "cell_type": "code",
   "execution_count": 69,
   "metadata": {},
   "outputs": [
    {
     "data": {
      "text/plain": [
       "(78, 6)"
      ]
     },
     "execution_count": 69,
     "metadata": {},
     "output_type": "execute_result"
    }
   ],
   "source": [
    "df.shape"
   ]
  },
  {
   "cell_type": "code",
   "execution_count": 70,
   "metadata": {},
   "outputs": [
    {
     "data": {
      "text/plain": [
       "468"
      ]
     },
     "execution_count": 70,
     "metadata": {},
     "output_type": "execute_result"
    }
   ],
   "source": [
    "df.size\n"
   ]
  },
  {
   "cell_type": "code",
   "execution_count": 17,
   "metadata": {},
   "outputs": [
    {
     "data": {
      "text/html": [
       "<div>\n",
       "<style scoped>\n",
       "    .dataframe tbody tr th:only-of-type {\n",
       "        vertical-align: middle;\n",
       "    }\n",
       "\n",
       "    .dataframe tbody tr th {\n",
       "        vertical-align: top;\n",
       "    }\n",
       "\n",
       "    .dataframe thead th {\n",
       "        text-align: right;\n",
       "    }\n",
       "</style>\n",
       "<table border=\"1\" class=\"dataframe\">\n",
       "  <thead>\n",
       "    <tr style=\"text-align: right;\">\n",
       "      <th></th>\n",
       "      <th>rank</th>\n",
       "      <th>discipline</th>\n",
       "      <th>phd</th>\n",
       "      <th>service</th>\n",
       "      <th>sex</th>\n",
       "      <th>salary</th>\n",
       "    </tr>\n",
       "  </thead>\n",
       "  <tbody>\n",
       "    <tr>\n",
       "      <td>0</td>\n",
       "      <td>Prof</td>\n",
       "      <td>B</td>\n",
       "      <td>56.0</td>\n",
       "      <td>49</td>\n",
       "      <td>Male</td>\n",
       "      <td>186960.0</td>\n",
       "    </tr>\n",
       "    <tr>\n",
       "      <td>1</td>\n",
       "      <td>Prof</td>\n",
       "      <td>A</td>\n",
       "      <td>12.0</td>\n",
       "      <td>6</td>\n",
       "      <td>Male</td>\n",
       "      <td>93000.0</td>\n",
       "    </tr>\n",
       "    <tr>\n",
       "      <td>2</td>\n",
       "      <td>Prof</td>\n",
       "      <td>A</td>\n",
       "      <td>23.0</td>\n",
       "      <td>20</td>\n",
       "      <td>Male</td>\n",
       "      <td>110515.0</td>\n",
       "    </tr>\n",
       "    <tr>\n",
       "      <td>3</td>\n",
       "      <td>Prof</td>\n",
       "      <td>A</td>\n",
       "      <td>40.0</td>\n",
       "      <td>31</td>\n",
       "      <td>Male</td>\n",
       "      <td>131205.0</td>\n",
       "    </tr>\n",
       "    <tr>\n",
       "      <td>4</td>\n",
       "      <td>Prof</td>\n",
       "      <td>B</td>\n",
       "      <td>20.0</td>\n",
       "      <td>18</td>\n",
       "      <td>Male</td>\n",
       "      <td>104800.0</td>\n",
       "    </tr>\n",
       "  </tbody>\n",
       "</table>\n",
       "</div>"
      ],
      "text/plain": [
       "   rank discipline   phd  service   sex    salary\n",
       "0  Prof          B  56.0       49  Male  186960.0\n",
       "1  Prof          A  12.0        6  Male   93000.0\n",
       "2  Prof          A  23.0       20  Male  110515.0\n",
       "3  Prof          A  40.0       31  Male  131205.0\n",
       "4  Prof          B  20.0       18  Male  104800.0"
      ]
     },
     "execution_count": 17,
     "metadata": {},
     "output_type": "execute_result"
    }
   ],
   "source": [
    "df.head()"
   ]
  },
  {
   "cell_type": "code",
   "execution_count": 71,
   "metadata": {},
   "outputs": [
    {
     "data": {
      "text/html": [
       "<div>\n",
       "<style scoped>\n",
       "    .dataframe tbody tr th:only-of-type {\n",
       "        vertical-align: middle;\n",
       "    }\n",
       "\n",
       "    .dataframe tbody tr th {\n",
       "        vertical-align: top;\n",
       "    }\n",
       "\n",
       "    .dataframe thead th {\n",
       "        text-align: right;\n",
       "    }\n",
       "</style>\n",
       "<table border=\"1\" class=\"dataframe\">\n",
       "  <thead>\n",
       "    <tr style=\"text-align: right;\">\n",
       "      <th></th>\n",
       "      <th>rank</th>\n",
       "      <th>discipline</th>\n",
       "      <th>phd</th>\n",
       "      <th>service</th>\n",
       "      <th>sex</th>\n",
       "      <th>salary</th>\n",
       "    </tr>\n",
       "  </thead>\n",
       "  <tbody>\n",
       "    <tr>\n",
       "      <td>0</td>\n",
       "      <td>Prof</td>\n",
       "      <td>B</td>\n",
       "      <td>56.0</td>\n",
       "      <td>49</td>\n",
       "      <td>Male</td>\n",
       "      <td>186960.0</td>\n",
       "    </tr>\n",
       "    <tr>\n",
       "      <td>1</td>\n",
       "      <td>Prof</td>\n",
       "      <td>A</td>\n",
       "      <td>12.0</td>\n",
       "      <td>6</td>\n",
       "      <td>Male</td>\n",
       "      <td>93000.0</td>\n",
       "    </tr>\n",
       "    <tr>\n",
       "      <td>2</td>\n",
       "      <td>Prof</td>\n",
       "      <td>A</td>\n",
       "      <td>23.0</td>\n",
       "      <td>20</td>\n",
       "      <td>Male</td>\n",
       "      <td>110515.0</td>\n",
       "    </tr>\n",
       "    <tr>\n",
       "      <td>3</td>\n",
       "      <td>Prof</td>\n",
       "      <td>A</td>\n",
       "      <td>40.0</td>\n",
       "      <td>31</td>\n",
       "      <td>Male</td>\n",
       "      <td>131205.0</td>\n",
       "    </tr>\n",
       "    <tr>\n",
       "      <td>4</td>\n",
       "      <td>Prof</td>\n",
       "      <td>B</td>\n",
       "      <td>20.0</td>\n",
       "      <td>18</td>\n",
       "      <td>Male</td>\n",
       "      <td>104800.0</td>\n",
       "    </tr>\n",
       "    <tr>\n",
       "      <td>5</td>\n",
       "      <td>Prof</td>\n",
       "      <td>A</td>\n",
       "      <td>20.0</td>\n",
       "      <td>20</td>\n",
       "      <td>Male</td>\n",
       "      <td>122400.0</td>\n",
       "    </tr>\n",
       "    <tr>\n",
       "      <td>6</td>\n",
       "      <td>AssocProf</td>\n",
       "      <td>A</td>\n",
       "      <td>20.0</td>\n",
       "      <td>17</td>\n",
       "      <td>Male</td>\n",
       "      <td>81285.0</td>\n",
       "    </tr>\n",
       "    <tr>\n",
       "      <td>7</td>\n",
       "      <td>Prof</td>\n",
       "      <td>A</td>\n",
       "      <td>18.0</td>\n",
       "      <td>18</td>\n",
       "      <td>Male</td>\n",
       "      <td>NaN</td>\n",
       "    </tr>\n",
       "    <tr>\n",
       "      <td>8</td>\n",
       "      <td>Prof</td>\n",
       "      <td>A</td>\n",
       "      <td>29.0</td>\n",
       "      <td>19</td>\n",
       "      <td>Male</td>\n",
       "      <td>94350.0</td>\n",
       "    </tr>\n",
       "    <tr>\n",
       "      <td>9</td>\n",
       "      <td>Prof</td>\n",
       "      <td>A</td>\n",
       "      <td>51.0</td>\n",
       "      <td>51</td>\n",
       "      <td>Male</td>\n",
       "      <td>57800.0</td>\n",
       "    </tr>\n",
       "  </tbody>\n",
       "</table>\n",
       "</div>"
      ],
      "text/plain": [
       "        rank discipline   phd  service   sex    salary\n",
       "0       Prof          B  56.0       49  Male  186960.0\n",
       "1       Prof          A  12.0        6  Male   93000.0\n",
       "2       Prof          A  23.0       20  Male  110515.0\n",
       "3       Prof          A  40.0       31  Male  131205.0\n",
       "4       Prof          B  20.0       18  Male  104800.0\n",
       "5       Prof          A  20.0       20  Male  122400.0\n",
       "6  AssocProf          A  20.0       17  Male   81285.0\n",
       "7       Prof          A  18.0       18  Male       NaN\n",
       "8       Prof          A  29.0       19  Male   94350.0\n",
       "9       Prof          A  51.0       51  Male   57800.0"
      ]
     },
     "execution_count": 71,
     "metadata": {},
     "output_type": "execute_result"
    }
   ],
   "source": [
    "df.head(10)"
   ]
  },
  {
   "cell_type": "code",
   "execution_count": 16,
   "metadata": {
    "scrolled": true
   },
   "outputs": [
    {
     "data": {
      "text/html": [
       "<div>\n",
       "<style scoped>\n",
       "    .dataframe tbody tr th:only-of-type {\n",
       "        vertical-align: middle;\n",
       "    }\n",
       "\n",
       "    .dataframe tbody tr th {\n",
       "        vertical-align: top;\n",
       "    }\n",
       "\n",
       "    .dataframe thead th {\n",
       "        text-align: right;\n",
       "    }\n",
       "</style>\n",
       "<table border=\"1\" class=\"dataframe\">\n",
       "  <thead>\n",
       "    <tr style=\"text-align: right;\">\n",
       "      <th></th>\n",
       "      <th>rank</th>\n",
       "      <th>discipline</th>\n",
       "      <th>phd</th>\n",
       "      <th>service</th>\n",
       "      <th>sex</th>\n",
       "      <th>salary</th>\n",
       "    </tr>\n",
       "  </thead>\n",
       "  <tbody>\n",
       "    <tr>\n",
       "      <td>73</td>\n",
       "      <td>Prof</td>\n",
       "      <td>B</td>\n",
       "      <td>18.0</td>\n",
       "      <td>10</td>\n",
       "      <td>Female</td>\n",
       "      <td>105450.0</td>\n",
       "    </tr>\n",
       "    <tr>\n",
       "      <td>74</td>\n",
       "      <td>AssocProf</td>\n",
       "      <td>B</td>\n",
       "      <td>19.0</td>\n",
       "      <td>6</td>\n",
       "      <td>Female</td>\n",
       "      <td>104542.0</td>\n",
       "    </tr>\n",
       "    <tr>\n",
       "      <td>75</td>\n",
       "      <td>Prof</td>\n",
       "      <td>B</td>\n",
       "      <td>17.0</td>\n",
       "      <td>17</td>\n",
       "      <td>Female</td>\n",
       "      <td>124312.0</td>\n",
       "    </tr>\n",
       "    <tr>\n",
       "      <td>76</td>\n",
       "      <td>Prof</td>\n",
       "      <td>A</td>\n",
       "      <td>28.0</td>\n",
       "      <td>14</td>\n",
       "      <td>Female</td>\n",
       "      <td>109954.0</td>\n",
       "    </tr>\n",
       "    <tr>\n",
       "      <td>77</td>\n",
       "      <td>Prof</td>\n",
       "      <td>A</td>\n",
       "      <td>23.0</td>\n",
       "      <td>15</td>\n",
       "      <td>Female</td>\n",
       "      <td>109646.0</td>\n",
       "    </tr>\n",
       "  </tbody>\n",
       "</table>\n",
       "</div>"
      ],
      "text/plain": [
       "         rank discipline   phd  service     sex    salary\n",
       "73       Prof          B  18.0       10  Female  105450.0\n",
       "74  AssocProf          B  19.0        6  Female  104542.0\n",
       "75       Prof          B  17.0       17  Female  124312.0\n",
       "76       Prof          A  28.0       14  Female  109954.0\n",
       "77       Prof          A  23.0       15  Female  109646.0"
      ]
     },
     "execution_count": 16,
     "metadata": {},
     "output_type": "execute_result"
    }
   ],
   "source": [
    "df.tail()"
   ]
  },
  {
   "cell_type": "code",
   "execution_count": 72,
   "metadata": {},
   "outputs": [
    {
     "data": {
      "text/html": [
       "<div>\n",
       "<style scoped>\n",
       "    .dataframe tbody tr th:only-of-type {\n",
       "        vertical-align: middle;\n",
       "    }\n",
       "\n",
       "    .dataframe tbody tr th {\n",
       "        vertical-align: top;\n",
       "    }\n",
       "\n",
       "    .dataframe thead th {\n",
       "        text-align: right;\n",
       "    }\n",
       "</style>\n",
       "<table border=\"1\" class=\"dataframe\">\n",
       "  <thead>\n",
       "    <tr style=\"text-align: right;\">\n",
       "      <th></th>\n",
       "      <th>rank</th>\n",
       "      <th>discipline</th>\n",
       "      <th>phd</th>\n",
       "      <th>service</th>\n",
       "      <th>sex</th>\n",
       "      <th>salary</th>\n",
       "    </tr>\n",
       "  </thead>\n",
       "  <tbody>\n",
       "    <tr>\n",
       "      <td>68</td>\n",
       "      <td>AsstProf</td>\n",
       "      <td>A</td>\n",
       "      <td>4.0</td>\n",
       "      <td>2</td>\n",
       "      <td>Female</td>\n",
       "      <td>77500.0</td>\n",
       "    </tr>\n",
       "    <tr>\n",
       "      <td>69</td>\n",
       "      <td>Prof</td>\n",
       "      <td>A</td>\n",
       "      <td>28.0</td>\n",
       "      <td>7</td>\n",
       "      <td>Female</td>\n",
       "      <td>116450.0</td>\n",
       "    </tr>\n",
       "    <tr>\n",
       "      <td>70</td>\n",
       "      <td>AsstProf</td>\n",
       "      <td>A</td>\n",
       "      <td>8.0</td>\n",
       "      <td>3</td>\n",
       "      <td>Female</td>\n",
       "      <td>78500.0</td>\n",
       "    </tr>\n",
       "    <tr>\n",
       "      <td>71</td>\n",
       "      <td>AssocProf</td>\n",
       "      <td>B</td>\n",
       "      <td>12.0</td>\n",
       "      <td>9</td>\n",
       "      <td>Female</td>\n",
       "      <td>71065.0</td>\n",
       "    </tr>\n",
       "    <tr>\n",
       "      <td>72</td>\n",
       "      <td>Prof</td>\n",
       "      <td>B</td>\n",
       "      <td>24.0</td>\n",
       "      <td>15</td>\n",
       "      <td>Female</td>\n",
       "      <td>161101.0</td>\n",
       "    </tr>\n",
       "    <tr>\n",
       "      <td>73</td>\n",
       "      <td>Prof</td>\n",
       "      <td>B</td>\n",
       "      <td>18.0</td>\n",
       "      <td>10</td>\n",
       "      <td>Female</td>\n",
       "      <td>105450.0</td>\n",
       "    </tr>\n",
       "    <tr>\n",
       "      <td>74</td>\n",
       "      <td>AssocProf</td>\n",
       "      <td>B</td>\n",
       "      <td>19.0</td>\n",
       "      <td>6</td>\n",
       "      <td>Female</td>\n",
       "      <td>104542.0</td>\n",
       "    </tr>\n",
       "    <tr>\n",
       "      <td>75</td>\n",
       "      <td>Prof</td>\n",
       "      <td>B</td>\n",
       "      <td>17.0</td>\n",
       "      <td>17</td>\n",
       "      <td>Female</td>\n",
       "      <td>124312.0</td>\n",
       "    </tr>\n",
       "    <tr>\n",
       "      <td>76</td>\n",
       "      <td>Prof</td>\n",
       "      <td>A</td>\n",
       "      <td>28.0</td>\n",
       "      <td>14</td>\n",
       "      <td>Female</td>\n",
       "      <td>109954.0</td>\n",
       "    </tr>\n",
       "    <tr>\n",
       "      <td>77</td>\n",
       "      <td>Prof</td>\n",
       "      <td>A</td>\n",
       "      <td>23.0</td>\n",
       "      <td>15</td>\n",
       "      <td>Female</td>\n",
       "      <td>109646.0</td>\n",
       "    </tr>\n",
       "  </tbody>\n",
       "</table>\n",
       "</div>"
      ],
      "text/plain": [
       "         rank discipline   phd  service     sex    salary\n",
       "68   AsstProf          A   4.0        2  Female   77500.0\n",
       "69       Prof          A  28.0        7  Female  116450.0\n",
       "70   AsstProf          A   8.0        3  Female   78500.0\n",
       "71  AssocProf          B  12.0        9  Female   71065.0\n",
       "72       Prof          B  24.0       15  Female  161101.0\n",
       "73       Prof          B  18.0       10  Female  105450.0\n",
       "74  AssocProf          B  19.0        6  Female  104542.0\n",
       "75       Prof          B  17.0       17  Female  124312.0\n",
       "76       Prof          A  28.0       14  Female  109954.0\n",
       "77       Prof          A  23.0       15  Female  109646.0"
      ]
     },
     "execution_count": 72,
     "metadata": {},
     "output_type": "execute_result"
    }
   ],
   "source": [
    "df.tail(10)"
   ]
  },
  {
   "cell_type": "code",
   "execution_count": 73,
   "metadata": {},
   "outputs": [
    {
     "data": {
      "text/plain": [
       "RangeIndex(start=0, stop=78, step=1)"
      ]
     },
     "execution_count": 73,
     "metadata": {},
     "output_type": "execute_result"
    }
   ],
   "source": [
    "df.index\n"
   ]
  },
  {
   "cell_type": "code",
   "execution_count": 74,
   "metadata": {},
   "outputs": [
    {
     "data": {
      "text/plain": [
       "Index(['rank', 'discipline', 'phd', 'service', 'sex', 'salary'], dtype='object')"
      ]
     },
     "execution_count": 74,
     "metadata": {},
     "output_type": "execute_result"
    }
   ],
   "source": [
    "df.columns\n"
   ]
  },
  {
   "cell_type": "code",
   "execution_count": 77,
   "metadata": {},
   "outputs": [
    {
     "data": {
      "text/plain": [
       "rank           object\n",
       "discipline     object\n",
       "phd           float64\n",
       "service         int64\n",
       "sex            object\n",
       "salary        float64\n",
       "dtype: object"
      ]
     },
     "execution_count": 77,
     "metadata": {},
     "output_type": "execute_result"
    }
   ],
   "source": [
    "df.dtypes\n"
   ]
  },
  {
   "cell_type": "code",
   "execution_count": 78,
   "metadata": {},
   "outputs": [
    {
     "data": {
      "text/plain": [
       "[RangeIndex(start=0, stop=78, step=1),\n",
       " Index(['rank', 'discipline', 'phd', 'service', 'sex', 'salary'], dtype='object')]"
      ]
     },
     "execution_count": 78,
     "metadata": {},
     "output_type": "execute_result"
    }
   ],
   "source": [
    "df.axes"
   ]
  },
  {
   "cell_type": "code",
   "execution_count": 79,
   "metadata": {},
   "outputs": [
    {
     "data": {
      "text/plain": [
       "array([['Prof', 'B', 56.0, 49, 'Male', 186960.0],\n",
       "       ['Prof', 'A', 12.0, 6, 'Male', 93000.0],\n",
       "       ['Prof', 'A', 23.0, 20, 'Male', 110515.0],\n",
       "       ['Prof', 'A', 40.0, 31, 'Male', 131205.0],\n",
       "       ['Prof', 'B', 20.0, 18, 'Male', 104800.0],\n",
       "       ['Prof', 'A', 20.0, 20, 'Male', 122400.0],\n",
       "       ['AssocProf', 'A', 20.0, 17, 'Male', 81285.0],\n",
       "       ['Prof', 'A', 18.0, 18, 'Male', nan],\n",
       "       ['Prof', 'A', 29.0, 19, 'Male', 94350.0],\n",
       "       ['Prof', 'A', 51.0, 51, 'Male', 57800.0],\n",
       "       ['Prof', 'B', 39.0, 33, 'Male', 128250.0],\n",
       "       ['Prof', 'B', 23.0, 23, 'Male', 134778.0],\n",
       "       ['AsstProf', 'B', 1.0, 0, 'Male', 88000.0],\n",
       "       ['Prof', 'B', nan, 33, 'Male', 162200.0],\n",
       "       ['Prof', 'B', 25.0, 19, 'Male', 153750.0],\n",
       "       ['Prof', 'B', 17.0, 3, 'Male', 150480.0],\n",
       "       ['AsstProf', 'B', 8.0, 3, 'Male', 75044.0],\n",
       "       ['AsstProf', 'B', 4.0, 0, 'Male', 92000.0],\n",
       "       ['Prof', 'A', 19.0, 7, 'Male', 107300.0],\n",
       "       ['Prof', 'A', 29.0, 27, 'Male', 150500.0],\n",
       "       ['AsstProf', 'B', 4.0, 4, 'Male', 92000.0],\n",
       "       ['Prof', 'A', 33.0, 30, 'Male', 103106.0],\n",
       "       ['AsstProf', 'A', 4.0, 2, 'Male', 73000.0],\n",
       "       ['AsstProf', 'A', 2.0, 0, 'Male', 85000.0],\n",
       "       ['Prof', 'A', 30.0, 23, 'Male', 91100.0],\n",
       "       ['Prof', 'B', 35.0, 31, 'Male', 99418.0],\n",
       "       ['Prof', 'A', 38.0, 19, 'Male', 148750.0],\n",
       "       ['Prof', 'A', 45.0, 43, 'Male', 155865.0],\n",
       "       ['AsstProf', 'B', 7.0, 2, 'Male', nan],\n",
       "       ['Prof', 'B', 21.0, 20, 'Male', 123683.0],\n",
       "       ['AssocProf', 'B', 9.0, 7, 'Male', 107008.0],\n",
       "       ['Prof', 'B', 22.0, 21, 'Male', 155750.0],\n",
       "       ['Prof', 'A', 27.0, 19, 'Male', 103275.0],\n",
       "       ['Prof', 'B', 18.0, 18, 'Male', 120000.0],\n",
       "       ['AssocProf', 'B', nan, 8, 'Male', 119800.0],\n",
       "       ['Prof', 'B', 28.0, 23, 'Male', 126933.0],\n",
       "       ['Prof', 'B', 45.0, 45, 'Male', 146856.0],\n",
       "       ['Prof', 'A', 20.0, 8, 'Male', 102000.0],\n",
       "       ['AsstProf', 'B', 4.0, 3, 'Male', 91000.0],\n",
       "       ['Prof', 'B', 18.0, 18, 'Female', 129000.0],\n",
       "       ['Prof', 'A', 39.0, 36, 'Female', 137000.0],\n",
       "       ['AssocProf', 'A', 13.0, 8, 'Female', 74830.0],\n",
       "       ['AsstProf', 'B', 4.0, 2, 'Female', 80225.0],\n",
       "       ['AsstProf', 'B', 5.0, 0, 'Female', 77000.0],\n",
       "       ['Prof', 'B', 23.0, 19, 'Female', 151768.0],\n",
       "       ['Prof', 'B', 25.0, 25, 'Female', 140096.0],\n",
       "       ['AsstProf', 'B', 11.0, 3, 'Female', 74692.0],\n",
       "       ['AssocProf', 'B', 11.0, 11, 'Female', 103613.0],\n",
       "       ['Prof', 'B', 17.0, 17, 'Female', 111512.0],\n",
       "       ['Prof', 'B', 17.0, 18, 'Female', 122960.0],\n",
       "       ['AsstProf', 'B', 10.0, 5, 'Female', 97032.0],\n",
       "       ['Prof', 'B', 20.0, 14, 'Female', 127512.0],\n",
       "       ['Prof', 'A', 12.0, 0, 'Female', 105000.0],\n",
       "       ['AsstProf', 'A', 5.0, 3, 'Female', 73500.0],\n",
       "       ['AssocProf', 'A', 25.0, 22, 'Female', 62884.0],\n",
       "       ['AsstProf', 'A', 2.0, 0, 'Female', 72500.0],\n",
       "       ['AssocProf', 'A', 10.0, 8, 'Female', 77500.0],\n",
       "       ['AsstProf', 'A', 3.0, 1, 'Female', 72500.0],\n",
       "       ['Prof', 'B', 36.0, 26, 'Female', 144651.0],\n",
       "       ['AssocProf', 'B', 12.0, 10, 'Female', 103994.0],\n",
       "       ['AsstProf', 'B', 3.0, 3, 'Female', 92000.0],\n",
       "       ['AssocProf', 'B', 13.0, 10, 'Female', 103750.0],\n",
       "       ['AssocProf', 'B', 14.0, 7, 'Female', 109650.0],\n",
       "       ['Prof', 'A', 29.0, 27, 'Female', 91000.0],\n",
       "       ['AssocProf', 'A', 26.0, 24, 'Female', 73300.0],\n",
       "       ['Prof', 'A', 36.0, 19, 'Female', 117555.0],\n",
       "       ['AsstProf', 'A', 7.0, 6, 'Female', 63100.0],\n",
       "       ['Prof', 'A', 17.0, 11, 'Female', 90450.0],\n",
       "       ['AsstProf', 'A', 4.0, 2, 'Female', 77500.0],\n",
       "       ['Prof', 'A', 28.0, 7, 'Female', 116450.0],\n",
       "       ['AsstProf', 'A', 8.0, 3, 'Female', 78500.0],\n",
       "       ['AssocProf', 'B', 12.0, 9, 'Female', 71065.0],\n",
       "       ['Prof', 'B', 24.0, 15, 'Female', 161101.0],\n",
       "       ['Prof', 'B', 18.0, 10, 'Female', 105450.0],\n",
       "       ['AssocProf', 'B', 19.0, 6, 'Female', 104542.0],\n",
       "       ['Prof', 'B', 17.0, 17, 'Female', 124312.0],\n",
       "       ['Prof', 'A', 28.0, 14, 'Female', 109954.0],\n",
       "       ['Prof', 'A', 23.0, 15, 'Female', 109646.0]], dtype=object)"
      ]
     },
     "execution_count": 79,
     "metadata": {},
     "output_type": "execute_result"
    }
   ],
   "source": [
    "df.values"
   ]
  },
  {
   "cell_type": "code",
   "execution_count": 81,
   "metadata": {},
   "outputs": [
    {
     "data": {
      "text/html": [
       "<div>\n",
       "<style scoped>\n",
       "    .dataframe tbody tr th:only-of-type {\n",
       "        vertical-align: middle;\n",
       "    }\n",
       "\n",
       "    .dataframe tbody tr th {\n",
       "        vertical-align: top;\n",
       "    }\n",
       "\n",
       "    .dataframe thead th {\n",
       "        text-align: right;\n",
       "    }\n",
       "</style>\n",
       "<table border=\"1\" class=\"dataframe\">\n",
       "  <thead>\n",
       "    <tr style=\"text-align: right;\">\n",
       "      <th></th>\n",
       "      <th>phd</th>\n",
       "      <th>service</th>\n",
       "      <th>salary</th>\n",
       "    </tr>\n",
       "  </thead>\n",
       "  <tbody>\n",
       "    <tr>\n",
       "      <td>count</td>\n",
       "      <td>76.000000</td>\n",
       "      <td>78.000000</td>\n",
       "      <td>76.000000</td>\n",
       "    </tr>\n",
       "    <tr>\n",
       "      <td>mean</td>\n",
       "      <td>19.605263</td>\n",
       "      <td>15.051282</td>\n",
       "      <td>108003.355263</td>\n",
       "    </tr>\n",
       "    <tr>\n",
       "      <td>std</td>\n",
       "      <td>12.508215</td>\n",
       "      <td>12.139768</td>\n",
       "      <td>28525.350088</td>\n",
       "    </tr>\n",
       "    <tr>\n",
       "      <td>min</td>\n",
       "      <td>1.000000</td>\n",
       "      <td>0.000000</td>\n",
       "      <td>57800.000000</td>\n",
       "    </tr>\n",
       "    <tr>\n",
       "      <td>25%</td>\n",
       "      <td>10.000000</td>\n",
       "      <td>5.250000</td>\n",
       "      <td>87250.000000</td>\n",
       "    </tr>\n",
       "    <tr>\n",
       "      <td>50%</td>\n",
       "      <td>18.500000</td>\n",
       "      <td>14.500000</td>\n",
       "      <td>104671.000000</td>\n",
       "    </tr>\n",
       "    <tr>\n",
       "      <td>75%</td>\n",
       "      <td>27.250000</td>\n",
       "      <td>20.750000</td>\n",
       "      <td>127077.750000</td>\n",
       "    </tr>\n",
       "    <tr>\n",
       "      <td>max</td>\n",
       "      <td>56.000000</td>\n",
       "      <td>51.000000</td>\n",
       "      <td>186960.000000</td>\n",
       "    </tr>\n",
       "  </tbody>\n",
       "</table>\n",
       "</div>"
      ],
      "text/plain": [
       "             phd    service         salary\n",
       "count  76.000000  78.000000      76.000000\n",
       "mean   19.605263  15.051282  108003.355263\n",
       "std    12.508215  12.139768   28525.350088\n",
       "min     1.000000   0.000000   57800.000000\n",
       "25%    10.000000   5.250000   87250.000000\n",
       "50%    18.500000  14.500000  104671.000000\n",
       "75%    27.250000  20.750000  127077.750000\n",
       "max    56.000000  51.000000  186960.000000"
      ]
     },
     "execution_count": 81,
     "metadata": {},
     "output_type": "execute_result"
    }
   ],
   "source": [
    "df.describe()                                       # gives only numeric data"
   ]
  },
  {
   "cell_type": "code",
   "execution_count": 83,
   "metadata": {},
   "outputs": [
    {
     "data": {
      "text/html": [
       "<div>\n",
       "<style scoped>\n",
       "    .dataframe tbody tr th:only-of-type {\n",
       "        vertical-align: middle;\n",
       "    }\n",
       "\n",
       "    .dataframe tbody tr th {\n",
       "        vertical-align: top;\n",
       "    }\n",
       "\n",
       "    .dataframe thead th {\n",
       "        text-align: right;\n",
       "    }\n",
       "</style>\n",
       "<table border=\"1\" class=\"dataframe\">\n",
       "  <thead>\n",
       "    <tr style=\"text-align: right;\">\n",
       "      <th></th>\n",
       "      <th>rank</th>\n",
       "      <th>discipline</th>\n",
       "      <th>phd</th>\n",
       "      <th>service</th>\n",
       "      <th>sex</th>\n",
       "      <th>salary</th>\n",
       "    </tr>\n",
       "  </thead>\n",
       "  <tbody>\n",
       "    <tr>\n",
       "      <td>count</td>\n",
       "      <td>78</td>\n",
       "      <td>78</td>\n",
       "      <td>76.000000</td>\n",
       "      <td>78.000000</td>\n",
       "      <td>78</td>\n",
       "      <td>76.000000</td>\n",
       "    </tr>\n",
       "    <tr>\n",
       "      <td>unique</td>\n",
       "      <td>3</td>\n",
       "      <td>2</td>\n",
       "      <td>NaN</td>\n",
       "      <td>NaN</td>\n",
       "      <td>2</td>\n",
       "      <td>NaN</td>\n",
       "    </tr>\n",
       "    <tr>\n",
       "      <td>top</td>\n",
       "      <td>Prof</td>\n",
       "      <td>B</td>\n",
       "      <td>NaN</td>\n",
       "      <td>NaN</td>\n",
       "      <td>Female</td>\n",
       "      <td>NaN</td>\n",
       "    </tr>\n",
       "    <tr>\n",
       "      <td>freq</td>\n",
       "      <td>46</td>\n",
       "      <td>42</td>\n",
       "      <td>NaN</td>\n",
       "      <td>NaN</td>\n",
       "      <td>39</td>\n",
       "      <td>NaN</td>\n",
       "    </tr>\n",
       "    <tr>\n",
       "      <td>mean</td>\n",
       "      <td>NaN</td>\n",
       "      <td>NaN</td>\n",
       "      <td>19.605263</td>\n",
       "      <td>15.051282</td>\n",
       "      <td>NaN</td>\n",
       "      <td>108003.355263</td>\n",
       "    </tr>\n",
       "    <tr>\n",
       "      <td>std</td>\n",
       "      <td>NaN</td>\n",
       "      <td>NaN</td>\n",
       "      <td>12.508215</td>\n",
       "      <td>12.139768</td>\n",
       "      <td>NaN</td>\n",
       "      <td>28525.350088</td>\n",
       "    </tr>\n",
       "    <tr>\n",
       "      <td>min</td>\n",
       "      <td>NaN</td>\n",
       "      <td>NaN</td>\n",
       "      <td>1.000000</td>\n",
       "      <td>0.000000</td>\n",
       "      <td>NaN</td>\n",
       "      <td>57800.000000</td>\n",
       "    </tr>\n",
       "    <tr>\n",
       "      <td>25%</td>\n",
       "      <td>NaN</td>\n",
       "      <td>NaN</td>\n",
       "      <td>10.000000</td>\n",
       "      <td>5.250000</td>\n",
       "      <td>NaN</td>\n",
       "      <td>87250.000000</td>\n",
       "    </tr>\n",
       "    <tr>\n",
       "      <td>50%</td>\n",
       "      <td>NaN</td>\n",
       "      <td>NaN</td>\n",
       "      <td>18.500000</td>\n",
       "      <td>14.500000</td>\n",
       "      <td>NaN</td>\n",
       "      <td>104671.000000</td>\n",
       "    </tr>\n",
       "    <tr>\n",
       "      <td>75%</td>\n",
       "      <td>NaN</td>\n",
       "      <td>NaN</td>\n",
       "      <td>27.250000</td>\n",
       "      <td>20.750000</td>\n",
       "      <td>NaN</td>\n",
       "      <td>127077.750000</td>\n",
       "    </tr>\n",
       "    <tr>\n",
       "      <td>max</td>\n",
       "      <td>NaN</td>\n",
       "      <td>NaN</td>\n",
       "      <td>56.000000</td>\n",
       "      <td>51.000000</td>\n",
       "      <td>NaN</td>\n",
       "      <td>186960.000000</td>\n",
       "    </tr>\n",
       "  </tbody>\n",
       "</table>\n",
       "</div>"
      ],
      "text/plain": [
       "        rank discipline        phd    service     sex         salary\n",
       "count     78         78  76.000000  78.000000      78      76.000000\n",
       "unique     3          2        NaN        NaN       2            NaN\n",
       "top     Prof          B        NaN        NaN  Female            NaN\n",
       "freq      46         42        NaN        NaN      39            NaN\n",
       "mean     NaN        NaN  19.605263  15.051282     NaN  108003.355263\n",
       "std      NaN        NaN  12.508215  12.139768     NaN   28525.350088\n",
       "min      NaN        NaN   1.000000   0.000000     NaN   57800.000000\n",
       "25%      NaN        NaN  10.000000   5.250000     NaN   87250.000000\n",
       "50%      NaN        NaN  18.500000  14.500000     NaN  104671.000000\n",
       "75%      NaN        NaN  27.250000  20.750000     NaN  127077.750000\n",
       "max      NaN        NaN  56.000000  51.000000     NaN  186960.000000"
      ]
     },
     "execution_count": 83,
     "metadata": {},
     "output_type": "execute_result"
    }
   ],
   "source": [
    "df.describe(include=['object', 'float64', 'int64'])  # will give non numeric data also"
   ]
  },
  {
   "cell_type": "code",
   "execution_count": 84,
   "metadata": {},
   "outputs": [
    {
     "data": {
      "text/plain": [
       "rank            Prof\n",
       "discipline         B\n",
       "phd               56\n",
       "service           51\n",
       "sex             Male\n",
       "salary        186960\n",
       "dtype: object"
      ]
     },
     "execution_count": 84,
     "metadata": {},
     "output_type": "execute_result"
    }
   ],
   "source": [
    "df.max()                                         # max of all features"
   ]
  }
 ],
 "metadata": {
  "kernelspec": {
   "display_name": "Python 3",
   "language": "python",
   "name": "python3"
  },
  "language_info": {
   "codemirror_mode": {
    "name": "ipython",
    "version": 3
   },
   "file_extension": ".py",
   "mimetype": "text/x-python",
   "name": "python",
   "nbconvert_exporter": "python",
   "pygments_lexer": "ipython3",
   "version": "3.7.4"
  }
 },
 "nbformat": 4,
 "nbformat_minor": 2
}
